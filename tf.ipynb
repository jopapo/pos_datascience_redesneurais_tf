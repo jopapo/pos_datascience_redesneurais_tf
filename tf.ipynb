{
 "metadata": {
  "language_info": {
   "codemirror_mode": {
    "name": "ipython",
    "version": 3
   },
   "file_extension": ".py",
   "mimetype": "text/x-python",
   "name": "python",
   "nbconvert_exporter": "python",
   "pygments_lexer": "ipython3",
   "version": "3.7.3"
  },
  "orig_nbformat": 4,
  "kernelspec": {
   "name": "tf-redesneurais",
   "display_name": "Python 3.7.3 64-bit ('venv-jupyter': virtualenv)"
  },
  "interpreter": {
   "hash": "0600588c3b5f4418cbe7b5ebc6825b479f3bc010269d8b60d75058cdd010adfe"
  }
 },
 "nbformat": 4,
 "nbformat_minor": 2,
 "cells": [
  {
   "source": [
    "# Trabalho Final"
   ],
   "cell_type": "markdown",
   "metadata": {}
  },
  {
   "cell_type": "code",
   "execution_count": 20,
   "metadata": {},
   "outputs": [],
   "source": [
    "# Importação das libs necessárias\n",
    "import torch\n",
    "import torch.nn as nn\n",
    "import torch.nn.functional as F\n",
    "import numpy as np\n",
    "import matplotlib.pyplot as plt\n",
    "import pandas as pd\n",
    "from sklearn.model_selection import train_test_split\n"
   ]
  },
  {
   "source": [
    "## Carga e tratamento dos dados"
   ],
   "cell_type": "markdown",
   "metadata": {}
  },
  {
   "cell_type": "code",
   "execution_count": 29,
   "metadata": {},
   "outputs": [],
   "source": [
    "df_lithology = pd.read_csv('datasets/lithology.csv', sep=';')\n"
   ]
  },
  {
   "cell_type": "code",
   "execution_count": 58,
   "metadata": {},
   "outputs": [
    {
     "output_type": "execute_result",
     "data": {
      "text/plain": [
       "          DEPTH_MD         X_LOC      Y_LOC       Z_LOC       CALI   RSHA  \\\n",
       "0         494.5280  437641.96875  6470972.5 -469.501831  19.480835 -999.0   \n",
       "1         494.6800  437641.96875  6470972.5 -469.653809  19.468800 -999.0   \n",
       "2         494.8320  437641.96875  6470972.5 -469.805786  19.468800 -999.0   \n",
       "3         494.9840  437641.96875  6470972.5 -469.957794  19.459282 -999.0   \n",
       "4         495.1360  437641.96875  6470972.5 -470.109772  19.453100 -999.0   \n",
       "...            ...           ...        ...         ...        ...    ...   \n",
       "1170506  3169.3124  444920.37500  6421578.0 -999.000000   8.423170 -999.0   \n",
       "1170507  3169.4644  444920.37500  6421578.0 -999.000000   8.379244 -999.0   \n",
       "1170508  3169.6164  444920.37500  6421578.0 -999.000000   8.350248 -999.0   \n",
       "1170509  3169.7684  444920.37500  6421578.0 -999.000000   8.313779 -999.0   \n",
       "1170510  3169.9204  444920.37500  6421578.0 -999.000000   8.294910 -999.0   \n",
       "\n",
       "               RMED        RDEP      RHOB         GR  ...  Normalized_RHOB  \\\n",
       "0          1.611410    1.798681  1.884186  80.200851  ...         0.314847   \n",
       "1          1.618070    1.795641  1.889794  79.262886  ...         0.318528   \n",
       "2          1.626459    1.800733  1.896523  74.821999  ...         0.322946   \n",
       "3          1.621594    1.801517  1.891913  72.878922  ...         0.319919   \n",
       "4          1.602679    1.795299  1.880034  71.729141  ...         0.312121   \n",
       "...             ...         ...       ...        ...  ...              ...   \n",
       "1170506 -999.000000 -999.000000  2.527984  77.654900  ...         0.906928   \n",
       "1170507 -999.000000 -999.000000  2.537613  75.363937  ...         0.924426   \n",
       "1170508 -999.000000 -999.000000  2.491860  66.452843  ...         0.841284   \n",
       "1170509 -999.000000 -999.000000  2.447539  55.784817  ...         0.760743   \n",
       "1170510 -999.000000 -999.000000  2.430716  48.432129  ...         0.730172   \n",
       "\n",
       "         Normalized_GR  Delta_DTC  Delta_RHOB   Delta_GR  Delta_DEPTH_MD  \\\n",
       "0             0.150172  -0.000000   -0.000000  -0.000000           0.000   \n",
       "1             0.148269   0.527710   -0.005608   0.937965           0.152   \n",
       "2             0.139258   0.429855   -0.006729   4.440887           0.152   \n",
       "3             0.135315   0.024185    0.004610   1.943077           0.152   \n",
       "4             0.132982   0.021088    0.011879   1.149780           0.152   \n",
       "...                ...        ...         ...        ...             ...   \n",
       "1170506       0.188539   5.709644   -0.050081 -15.087708           0.152   \n",
       "1170507       0.181304   1.034114   -0.009629   2.290962           0.152   \n",
       "1170508       0.153161  -5.094579    0.045753   8.911095           0.152   \n",
       "1170509       0.119469  -5.401767    0.044321  10.668026           0.152   \n",
       "1170510       0.096247  -2.181371    0.016823   7.352688           0.152   \n",
       "\n",
       "         Delta_Carbon_Index  GROUP_encoded  FORMATION_encoded  \\\n",
       "0                  0.000000              6                 68   \n",
       "1                 -0.243315              6                 68   \n",
       "2                 -0.290077              6                 68   \n",
       "3                  0.198498              6                 68   \n",
       "4                  0.515968              6                 68   \n",
       "...                     ...            ...                ...   \n",
       "1170506           -1.235199             11                  7   \n",
       "1170507           -0.231906             11                  7   \n",
       "1170508            1.117868             11                  7   \n",
       "1170509            1.122734             11                  7   \n",
       "1170510            0.436879             11                  7   \n",
       "\n",
       "         FORCE_2020_LITHOFACIES_LITHOLOGY_IDX  \n",
       "0                                           2  \n",
       "1                                           2  \n",
       "2                                           2  \n",
       "3                                           2  \n",
       "4                                           2  \n",
       "...                                       ...  \n",
       "1170506                                     0  \n",
       "1170507                                     1  \n",
       "1170508                                     1  \n",
       "1170509                                     1  \n",
       "1170510                                     1  \n",
       "\n",
       "[1170511 rows x 32 columns]"
      ],
      "text/html": "<div>\n<style scoped>\n    .dataframe tbody tr th:only-of-type {\n        vertical-align: middle;\n    }\n\n    .dataframe tbody tr th {\n        vertical-align: top;\n    }\n\n    .dataframe thead th {\n        text-align: right;\n    }\n</style>\n<table border=\"1\" class=\"dataframe\">\n  <thead>\n    <tr style=\"text-align: right;\">\n      <th></th>\n      <th>DEPTH_MD</th>\n      <th>X_LOC</th>\n      <th>Y_LOC</th>\n      <th>Z_LOC</th>\n      <th>CALI</th>\n      <th>RSHA</th>\n      <th>RMED</th>\n      <th>RDEP</th>\n      <th>RHOB</th>\n      <th>GR</th>\n      <th>...</th>\n      <th>Normalized_RHOB</th>\n      <th>Normalized_GR</th>\n      <th>Delta_DTC</th>\n      <th>Delta_RHOB</th>\n      <th>Delta_GR</th>\n      <th>Delta_DEPTH_MD</th>\n      <th>Delta_Carbon_Index</th>\n      <th>GROUP_encoded</th>\n      <th>FORMATION_encoded</th>\n      <th>FORCE_2020_LITHOFACIES_LITHOLOGY_IDX</th>\n    </tr>\n  </thead>\n  <tbody>\n    <tr>\n      <th>0</th>\n      <td>494.5280</td>\n      <td>437641.96875</td>\n      <td>6470972.5</td>\n      <td>-469.501831</td>\n      <td>19.480835</td>\n      <td>-999.0</td>\n      <td>1.611410</td>\n      <td>1.798681</td>\n      <td>1.884186</td>\n      <td>80.200851</td>\n      <td>...</td>\n      <td>0.314847</td>\n      <td>0.150172</td>\n      <td>-0.000000</td>\n      <td>-0.000000</td>\n      <td>-0.000000</td>\n      <td>0.000</td>\n      <td>0.000000</td>\n      <td>6</td>\n      <td>68</td>\n      <td>2</td>\n    </tr>\n    <tr>\n      <th>1</th>\n      <td>494.6800</td>\n      <td>437641.96875</td>\n      <td>6470972.5</td>\n      <td>-469.653809</td>\n      <td>19.468800</td>\n      <td>-999.0</td>\n      <td>1.618070</td>\n      <td>1.795641</td>\n      <td>1.889794</td>\n      <td>79.262886</td>\n      <td>...</td>\n      <td>0.318528</td>\n      <td>0.148269</td>\n      <td>0.527710</td>\n      <td>-0.005608</td>\n      <td>0.937965</td>\n      <td>0.152</td>\n      <td>-0.243315</td>\n      <td>6</td>\n      <td>68</td>\n      <td>2</td>\n    </tr>\n    <tr>\n      <th>2</th>\n      <td>494.8320</td>\n      <td>437641.96875</td>\n      <td>6470972.5</td>\n      <td>-469.805786</td>\n      <td>19.468800</td>\n      <td>-999.0</td>\n      <td>1.626459</td>\n      <td>1.800733</td>\n      <td>1.896523</td>\n      <td>74.821999</td>\n      <td>...</td>\n      <td>0.322946</td>\n      <td>0.139258</td>\n      <td>0.429855</td>\n      <td>-0.006729</td>\n      <td>4.440887</td>\n      <td>0.152</td>\n      <td>-0.290077</td>\n      <td>6</td>\n      <td>68</td>\n      <td>2</td>\n    </tr>\n    <tr>\n      <th>3</th>\n      <td>494.9840</td>\n      <td>437641.96875</td>\n      <td>6470972.5</td>\n      <td>-469.957794</td>\n      <td>19.459282</td>\n      <td>-999.0</td>\n      <td>1.621594</td>\n      <td>1.801517</td>\n      <td>1.891913</td>\n      <td>72.878922</td>\n      <td>...</td>\n      <td>0.319919</td>\n      <td>0.135315</td>\n      <td>0.024185</td>\n      <td>0.004610</td>\n      <td>1.943077</td>\n      <td>0.152</td>\n      <td>0.198498</td>\n      <td>6</td>\n      <td>68</td>\n      <td>2</td>\n    </tr>\n    <tr>\n      <th>4</th>\n      <td>495.1360</td>\n      <td>437641.96875</td>\n      <td>6470972.5</td>\n      <td>-470.109772</td>\n      <td>19.453100</td>\n      <td>-999.0</td>\n      <td>1.602679</td>\n      <td>1.795299</td>\n      <td>1.880034</td>\n      <td>71.729141</td>\n      <td>...</td>\n      <td>0.312121</td>\n      <td>0.132982</td>\n      <td>0.021088</td>\n      <td>0.011879</td>\n      <td>1.149780</td>\n      <td>0.152</td>\n      <td>0.515968</td>\n      <td>6</td>\n      <td>68</td>\n      <td>2</td>\n    </tr>\n    <tr>\n      <th>...</th>\n      <td>...</td>\n      <td>...</td>\n      <td>...</td>\n      <td>...</td>\n      <td>...</td>\n      <td>...</td>\n      <td>...</td>\n      <td>...</td>\n      <td>...</td>\n      <td>...</td>\n      <td>...</td>\n      <td>...</td>\n      <td>...</td>\n      <td>...</td>\n      <td>...</td>\n      <td>...</td>\n      <td>...</td>\n      <td>...</td>\n      <td>...</td>\n      <td>...</td>\n      <td>...</td>\n    </tr>\n    <tr>\n      <th>1170506</th>\n      <td>3169.3124</td>\n      <td>444920.37500</td>\n      <td>6421578.0</td>\n      <td>-999.000000</td>\n      <td>8.423170</td>\n      <td>-999.0</td>\n      <td>-999.000000</td>\n      <td>-999.000000</td>\n      <td>2.527984</td>\n      <td>77.654900</td>\n      <td>...</td>\n      <td>0.906928</td>\n      <td>0.188539</td>\n      <td>5.709644</td>\n      <td>-0.050081</td>\n      <td>-15.087708</td>\n      <td>0.152</td>\n      <td>-1.235199</td>\n      <td>11</td>\n      <td>7</td>\n      <td>0</td>\n    </tr>\n    <tr>\n      <th>1170507</th>\n      <td>3169.4644</td>\n      <td>444920.37500</td>\n      <td>6421578.0</td>\n      <td>-999.000000</td>\n      <td>8.379244</td>\n      <td>-999.0</td>\n      <td>-999.000000</td>\n      <td>-999.000000</td>\n      <td>2.537613</td>\n      <td>75.363937</td>\n      <td>...</td>\n      <td>0.924426</td>\n      <td>0.181304</td>\n      <td>1.034114</td>\n      <td>-0.009629</td>\n      <td>2.290962</td>\n      <td>0.152</td>\n      <td>-0.231906</td>\n      <td>11</td>\n      <td>7</td>\n      <td>1</td>\n    </tr>\n    <tr>\n      <th>1170508</th>\n      <td>3169.6164</td>\n      <td>444920.37500</td>\n      <td>6421578.0</td>\n      <td>-999.000000</td>\n      <td>8.350248</td>\n      <td>-999.0</td>\n      <td>-999.000000</td>\n      <td>-999.000000</td>\n      <td>2.491860</td>\n      <td>66.452843</td>\n      <td>...</td>\n      <td>0.841284</td>\n      <td>0.153161</td>\n      <td>-5.094579</td>\n      <td>0.045753</td>\n      <td>8.911095</td>\n      <td>0.152</td>\n      <td>1.117868</td>\n      <td>11</td>\n      <td>7</td>\n      <td>1</td>\n    </tr>\n    <tr>\n      <th>1170509</th>\n      <td>3169.7684</td>\n      <td>444920.37500</td>\n      <td>6421578.0</td>\n      <td>-999.000000</td>\n      <td>8.313779</td>\n      <td>-999.0</td>\n      <td>-999.000000</td>\n      <td>-999.000000</td>\n      <td>2.447539</td>\n      <td>55.784817</td>\n      <td>...</td>\n      <td>0.760743</td>\n      <td>0.119469</td>\n      <td>-5.401767</td>\n      <td>0.044321</td>\n      <td>10.668026</td>\n      <td>0.152</td>\n      <td>1.122734</td>\n      <td>11</td>\n      <td>7</td>\n      <td>1</td>\n    </tr>\n    <tr>\n      <th>1170510</th>\n      <td>3169.9204</td>\n      <td>444920.37500</td>\n      <td>6421578.0</td>\n      <td>-999.000000</td>\n      <td>8.294910</td>\n      <td>-999.0</td>\n      <td>-999.000000</td>\n      <td>-999.000000</td>\n      <td>2.430716</td>\n      <td>48.432129</td>\n      <td>...</td>\n      <td>0.730172</td>\n      <td>0.096247</td>\n      <td>-2.181371</td>\n      <td>0.016823</td>\n      <td>7.352688</td>\n      <td>0.152</td>\n      <td>0.436879</td>\n      <td>11</td>\n      <td>7</td>\n      <td>1</td>\n    </tr>\n  </tbody>\n</table>\n<p>1170511 rows × 32 columns</p>\n</div>"
     },
     "metadata": {},
     "execution_count": 58
    }
   ],
   "source": [
    "df_lithology"
   ]
  },
  {
   "cell_type": "code",
   "execution_count": 74,
   "metadata": {},
   "outputs": [],
   "source": [
    "# Lista de colunas\n",
    "df_lithology.columns\n",
    "\n",
    "category_columns = ['DEPTH_MD', 'X_LOC', 'Y_LOC', 'Z_LOC', 'CALI', 'RSHA', 'RMED', 'RDEP',\n",
    "       'RHOB', 'GR', 'NPHI', 'PEF', 'DTC', 'SP', 'BS', 'ROP', 'DCAL', 'DRHO',\n",
    "       'MUDWEIGHT', 'RMIC', 'Carbon_Index',\n",
    "       'Normalized_RHOB', 'Normalized_GR', 'Delta_DTC', 'Delta_RHOB',\n",
    "       'Delta_GR', 'Delta_DEPTH_MD', 'Delta_Carbon_Index', 'GROUP_encoded',\n",
    "       'FORMATION_encoded']"
   ]
  },
  {
   "cell_type": "code",
   "execution_count": 5,
   "metadata": {},
   "outputs": [
    {
     "output_type": "execute_result",
     "data": {
      "text/plain": [
       "65000.0    720803\n",
       "30000.0    168937\n",
       "65030.0    150455\n",
       "70000.0     56320\n",
       "80000.0     33329\n",
       "99000.0     15245\n",
       "70032.0     10513\n",
       "88000.0      8213\n",
       "90000.0      3820\n",
       "74000.0      1688\n",
       "86000.0      1085\n",
       "93000.0       103\n",
       "Name: FORCE_2020_LITHOFACIES_LITHOLOGY, dtype: int64"
      ]
     },
     "metadata": {},
     "execution_count": 5
    }
   ],
   "source": [
    "# Conferindo as opções\n",
    "df_lithology['FORCE_2020_LITHOFACIES_LITHOLOGY'].value_counts()"
   ]
  },
  {
   "cell_type": "code",
   "execution_count": 53,
   "metadata": {},
   "outputs": [],
   "source": [
    "lithofacies = {\n",
    "    30000: 'Sandstone',\n",
    "    65030: 'Sandstone/Shale',\n",
    "    65000: 'Shale',\n",
    "    80000: 'Marl',\n",
    "    74000: 'Dolomite',\n",
    "    70000: 'Limestone',\n",
    "    70032: 'Chalk',\n",
    "    88000: 'Halite',\n",
    "    86000: 'Anhydrite',\n",
    "    99000: 'Tuff',\n",
    "    90000: 'Coal',\n",
    "    93000: 'Basement'\n",
    "}\n",
    "lithofacies\n",
    "\n",
    "lithofacies_keys = list(lithofacies.keys())\n",
    "\n",
    "df_lithology['FORCE_2020_LITHOFACIES_LITHOLOGY_IDX'] = df_lithology['FORCE_2020_LITHOFACIES_LITHOLOGY'].apply(lambda x: lithofacies_keys.index(x))\n"
   ]
  },
  {
   "cell_type": "code",
   "execution_count": 75,
   "metadata": {},
   "outputs": [],
   "source": [
    "# Usando exemplo de https://towardsdatascience.com/deep-learning-on-dataframes-with-pytorch-66b21be54ef6\n",
    "#                   https://medium.com/swlh/my-first-work-with-pytorch-eea3bc82068\n",
    "\n",
    "# Random state fixo para reproduzir o mesmo cenário\n",
    "random_state = 42\n",
    "\n",
    "X = df_lithology.drop(category_columns, axis=1).values\n",
    "y = df_lithology['FORCE_2020_LITHOFACIES_LITHOLOGY_IDX'].values\n",
    "\n",
    "# Quebra o dataset em teste e treino\n",
    "X_train, X_test, y_train, y_test = train_test_split(X, y, test_size=0.2, random_state=random_state)\n",
    "\n",
    "# Random state ensures that the splits that you generate are reproducible. \n",
    "# Scikit-learn uses random permutations to generate the splits. \n",
    "# The random state that you provide is used as a seed to the random number generator.\n",
    "# This ensures that the random numbers are generated in the same order.\n",
    "X_train = torch.FloatTensor(X_train)\n",
    "X_test = torch.FloatTensor(X_test)\n",
    "y_train = torch.LongTensor(y_train)\n",
    "y_test = torch.LongTensor(y_test)\n"
   ]
  },
  {
   "cell_type": "code",
   "execution_count": 77,
   "metadata": {},
   "outputs": [
    {
     "output_type": "execute_result",
     "data": {
      "text/plain": [
       "ANN(\n",
       "  (fc1): Linear(in_features=30, out_features=20, bias=True)\n",
       "  (fc2): Linear(in_features=20, out_features=16, bias=True)\n",
       "  (output): Linear(in_features=16, out_features=12, bias=True)\n",
       ")"
      ]
     },
     "metadata": {},
     "execution_count": 77
    }
   ],
   "source": [
    "# Criando nossa rede neural\n",
    "\n",
    "class ANN(nn.Module):\n",
    "    def __init__(self):\n",
    "        super().__init__()\n",
    "        self.fc1 = nn.Linear(in_features=len(category_columns), out_features=20)\n",
    "        self.fc2 = nn.Linear(in_features=20, out_features=16)\n",
    "        self.output = nn.Linear(in_features=16, out_features=len(lithofacies))\n",
    " \n",
    "    def forward(self, x):\n",
    "        x = F.relu(self.fc1(x))\n",
    "        x = F.relu(self.fc2(x))\n",
    "        x = self.output(x)\n",
    "        return x\n",
    "\n",
    "model = ANN()\n",
    "model\n"
   ]
  },
  {
   "cell_type": "code",
   "execution_count": 56,
   "metadata": {},
   "outputs": [],
   "source": [
    "# ?\n",
    "criterion = nn.CrossEntropyLoss()\n",
    "\n",
    "# Otimizador Adam\n",
    "optimizer = torch.optim.Adam(model.parameters(), lr=0.01)\n",
    "\n",
    "# Otimizador SGD\n",
    "#learning_rate = 0.05\n",
    "#optimizer = torch.optim.SGD(model.parameters(), lr=learning_rate)\n"
   ]
  },
  {
   "cell_type": "code",
   "execution_count": 78,
   "metadata": {},
   "outputs": [
    {
     "output_type": "error",
     "ename": "RuntimeError",
     "evalue": "mat1 and mat2 shapes cannot be multiplied (936408x2 and 30x20)",
     "traceback": [
      "\u001b[1;31m---------------------------------------------------------------------------\u001b[0m",
      "\u001b[1;31mRuntimeError\u001b[0m                              Traceback (most recent call last)",
      "\u001b[1;32m<timed exec>\u001b[0m in \u001b[0;36m<module>\u001b[1;34m\u001b[0m\n",
      "\u001b[1;32m<ipython-input-77-5c705bd283f7>\u001b[0m in \u001b[0;36mforward\u001b[1;34m(self, x)\u001b[0m\n\u001b[0;32m      9\u001b[0m \u001b[1;33m\u001b[0m\u001b[0m\n\u001b[0;32m     10\u001b[0m     \u001b[1;32mdef\u001b[0m \u001b[0mforward\u001b[0m\u001b[1;33m(\u001b[0m\u001b[0mself\u001b[0m\u001b[1;33m,\u001b[0m \u001b[0mx\u001b[0m\u001b[1;33m)\u001b[0m\u001b[1;33m:\u001b[0m\u001b[1;33m\u001b[0m\u001b[1;33m\u001b[0m\u001b[0m\n\u001b[1;32m---> 11\u001b[1;33m         \u001b[0mx\u001b[0m \u001b[1;33m=\u001b[0m \u001b[0mF\u001b[0m\u001b[1;33m.\u001b[0m\u001b[0mrelu\u001b[0m\u001b[1;33m(\u001b[0m\u001b[0mself\u001b[0m\u001b[1;33m.\u001b[0m\u001b[0mfc1\u001b[0m\u001b[1;33m(\u001b[0m\u001b[0mx\u001b[0m\u001b[1;33m)\u001b[0m\u001b[1;33m)\u001b[0m\u001b[1;33m\u001b[0m\u001b[1;33m\u001b[0m\u001b[0m\n\u001b[0m\u001b[0;32m     12\u001b[0m         \u001b[0mx\u001b[0m \u001b[1;33m=\u001b[0m \u001b[0mF\u001b[0m\u001b[1;33m.\u001b[0m\u001b[0mrelu\u001b[0m\u001b[1;33m(\u001b[0m\u001b[0mself\u001b[0m\u001b[1;33m.\u001b[0m\u001b[0mfc2\u001b[0m\u001b[1;33m(\u001b[0m\u001b[0mx\u001b[0m\u001b[1;33m)\u001b[0m\u001b[1;33m)\u001b[0m\u001b[1;33m\u001b[0m\u001b[1;33m\u001b[0m\u001b[0m\n\u001b[0;32m     13\u001b[0m         \u001b[0mx\u001b[0m \u001b[1;33m=\u001b[0m \u001b[0mself\u001b[0m\u001b[1;33m.\u001b[0m\u001b[0moutput\u001b[0m\u001b[1;33m(\u001b[0m\u001b[0mx\u001b[0m\u001b[1;33m)\u001b[0m\u001b[1;33m\u001b[0m\u001b[1;33m\u001b[0m\u001b[0m\n",
      "\u001b[1;32me:\\temp\\tf-redesneurais\\venv-jupyter\\lib\\site-packages\\torch\\nn\\modules\\module.py\u001b[0m in \u001b[0;36m_call_impl\u001b[1;34m(self, *input, **kwargs)\u001b[0m\n\u001b[0;32m   1049\u001b[0m         if not (self._backward_hooks or self._forward_hooks or self._forward_pre_hooks or _global_backward_hooks\n\u001b[0;32m   1050\u001b[0m                 or _global_forward_hooks or _global_forward_pre_hooks):\n\u001b[1;32m-> 1051\u001b[1;33m             \u001b[1;32mreturn\u001b[0m \u001b[0mforward_call\u001b[0m\u001b[1;33m(\u001b[0m\u001b[1;33m*\u001b[0m\u001b[0minput\u001b[0m\u001b[1;33m,\u001b[0m \u001b[1;33m**\u001b[0m\u001b[0mkwargs\u001b[0m\u001b[1;33m)\u001b[0m\u001b[1;33m\u001b[0m\u001b[1;33m\u001b[0m\u001b[0m\n\u001b[0m\u001b[0;32m   1052\u001b[0m         \u001b[1;31m# Do not call functions when jit is used\u001b[0m\u001b[1;33m\u001b[0m\u001b[1;33m\u001b[0m\u001b[1;33m\u001b[0m\u001b[0m\n\u001b[0;32m   1053\u001b[0m         \u001b[0mfull_backward_hooks\u001b[0m\u001b[1;33m,\u001b[0m \u001b[0mnon_full_backward_hooks\u001b[0m \u001b[1;33m=\u001b[0m \u001b[1;33m[\u001b[0m\u001b[1;33m]\u001b[0m\u001b[1;33m,\u001b[0m \u001b[1;33m[\u001b[0m\u001b[1;33m]\u001b[0m\u001b[1;33m\u001b[0m\u001b[1;33m\u001b[0m\u001b[0m\n",
      "\u001b[1;32me:\\temp\\tf-redesneurais\\venv-jupyter\\lib\\site-packages\\torch\\nn\\modules\\linear.py\u001b[0m in \u001b[0;36mforward\u001b[1;34m(self, input)\u001b[0m\n\u001b[0;32m     94\u001b[0m \u001b[1;33m\u001b[0m\u001b[0m\n\u001b[0;32m     95\u001b[0m     \u001b[1;32mdef\u001b[0m \u001b[0mforward\u001b[0m\u001b[1;33m(\u001b[0m\u001b[0mself\u001b[0m\u001b[1;33m,\u001b[0m \u001b[0minput\u001b[0m\u001b[1;33m:\u001b[0m \u001b[0mTensor\u001b[0m\u001b[1;33m)\u001b[0m \u001b[1;33m->\u001b[0m \u001b[0mTensor\u001b[0m\u001b[1;33m:\u001b[0m\u001b[1;33m\u001b[0m\u001b[1;33m\u001b[0m\u001b[0m\n\u001b[1;32m---> 96\u001b[1;33m         \u001b[1;32mreturn\u001b[0m \u001b[0mF\u001b[0m\u001b[1;33m.\u001b[0m\u001b[0mlinear\u001b[0m\u001b[1;33m(\u001b[0m\u001b[0minput\u001b[0m\u001b[1;33m,\u001b[0m \u001b[0mself\u001b[0m\u001b[1;33m.\u001b[0m\u001b[0mweight\u001b[0m\u001b[1;33m,\u001b[0m \u001b[0mself\u001b[0m\u001b[1;33m.\u001b[0m\u001b[0mbias\u001b[0m\u001b[1;33m)\u001b[0m\u001b[1;33m\u001b[0m\u001b[1;33m\u001b[0m\u001b[0m\n\u001b[0m\u001b[0;32m     97\u001b[0m \u001b[1;33m\u001b[0m\u001b[0m\n\u001b[0;32m     98\u001b[0m     \u001b[1;32mdef\u001b[0m \u001b[0mextra_repr\u001b[0m\u001b[1;33m(\u001b[0m\u001b[0mself\u001b[0m\u001b[1;33m)\u001b[0m \u001b[1;33m->\u001b[0m \u001b[0mstr\u001b[0m\u001b[1;33m:\u001b[0m\u001b[1;33m\u001b[0m\u001b[1;33m\u001b[0m\u001b[0m\n",
      "\u001b[1;32me:\\temp\\tf-redesneurais\\venv-jupyter\\lib\\site-packages\\torch\\nn\\functional.py\u001b[0m in \u001b[0;36mlinear\u001b[1;34m(input, weight, bias)\u001b[0m\n\u001b[0;32m   1845\u001b[0m     \u001b[1;32mif\u001b[0m \u001b[0mhas_torch_function_variadic\u001b[0m\u001b[1;33m(\u001b[0m\u001b[0minput\u001b[0m\u001b[1;33m,\u001b[0m \u001b[0mweight\u001b[0m\u001b[1;33m)\u001b[0m\u001b[1;33m:\u001b[0m\u001b[1;33m\u001b[0m\u001b[1;33m\u001b[0m\u001b[0m\n\u001b[0;32m   1846\u001b[0m         \u001b[1;32mreturn\u001b[0m \u001b[0mhandle_torch_function\u001b[0m\u001b[1;33m(\u001b[0m\u001b[0mlinear\u001b[0m\u001b[1;33m,\u001b[0m \u001b[1;33m(\u001b[0m\u001b[0minput\u001b[0m\u001b[1;33m,\u001b[0m \u001b[0mweight\u001b[0m\u001b[1;33m)\u001b[0m\u001b[1;33m,\u001b[0m \u001b[0minput\u001b[0m\u001b[1;33m,\u001b[0m \u001b[0mweight\u001b[0m\u001b[1;33m,\u001b[0m \u001b[0mbias\u001b[0m\u001b[1;33m=\u001b[0m\u001b[0mbias\u001b[0m\u001b[1;33m)\u001b[0m\u001b[1;33m\u001b[0m\u001b[1;33m\u001b[0m\u001b[0m\n\u001b[1;32m-> 1847\u001b[1;33m     \u001b[1;32mreturn\u001b[0m \u001b[0mtorch\u001b[0m\u001b[1;33m.\u001b[0m\u001b[0m_C\u001b[0m\u001b[1;33m.\u001b[0m\u001b[0m_nn\u001b[0m\u001b[1;33m.\u001b[0m\u001b[0mlinear\u001b[0m\u001b[1;33m(\u001b[0m\u001b[0minput\u001b[0m\u001b[1;33m,\u001b[0m \u001b[0mweight\u001b[0m\u001b[1;33m,\u001b[0m \u001b[0mbias\u001b[0m\u001b[1;33m)\u001b[0m\u001b[1;33m\u001b[0m\u001b[1;33m\u001b[0m\u001b[0m\n\u001b[0m\u001b[0;32m   1848\u001b[0m \u001b[1;33m\u001b[0m\u001b[0m\n\u001b[0;32m   1849\u001b[0m \u001b[1;33m\u001b[0m\u001b[0m\n",
      "\u001b[1;31mRuntimeError\u001b[0m: mat1 and mat2 shapes cannot be multiplied (936408x2 and 30x20)"
     ]
    }
   ],
   "source": [
    "%%time\n",
    "\n",
    "# Treinando\n",
    "\n",
    "epochs = 100\n",
    "loss_arr = []\n",
    "\n",
    "for i in range(epochs):\n",
    "    y_hat = model.forward(X_train)\n",
    "    loss = criterion(y_hat, y_train)\n",
    "    loss_arr.append(loss)\n",
    "    \n",
    " \n",
    "    if i % 10 == 0:\n",
    "        print(f'Epoch: {i} Loss: {loss}')\n",
    " \n",
    "    optimizer.zero_grad()\n",
    "    loss.backward()\n",
    "    optimizer.step()"
   ]
  },
  {
   "cell_type": "code",
   "execution_count": null,
   "metadata": {},
   "outputs": [],
   "source": [
    "plt.title('Loss VS Epoch')\n",
    "plt.xlabel(\"Loss\")\n",
    "plt.xlabel(\"Epoch\")\n",
    "plt.plot(loss_arr)"
   ]
  },
  {
   "cell_type": "code",
   "execution_count": 3,
   "metadata": {},
   "outputs": [
    {
     "output_type": "execute_result",
     "data": {
      "text/plain": [
       "         DEPTH_MD        X_LOC      Y_LOC        Z_LOC        CALI   RSHA  \\\n",
       "0       1518.2800  433906.7500  6460000.5 -1493.241821   15.506232 -999.0   \n",
       "1       1518.4320  433906.7500  6460000.5 -1493.393799   18.524611 -999.0   \n",
       "2       1518.5840  433906.7500  6460000.5 -1493.545776   18.855669 -999.0   \n",
       "3       1518.7360  433906.7500  6460000.5 -1493.697754   19.163353 -999.0   \n",
       "4       1518.8880  433906.7500  6460000.5 -1493.849609   18.489744 -999.0   \n",
       "...           ...          ...        ...          ...         ...    ...   \n",
       "122392  2973.2988  536096.0625  6793022.0 -2943.444580    8.276272 -999.0   \n",
       "122393  2973.4508  536096.0625  6793022.0 -2943.595947    8.267273 -999.0   \n",
       "122394  2973.6028  536096.0625  6793022.0 -2943.747559    8.250099 -999.0   \n",
       "122395  2973.7548  536096.0625  6793022.0 -2943.899170 -999.000000 -999.0   \n",
       "122396  2973.9068  536096.0625  6793022.0 -2944.050537 -999.000000 -999.0   \n",
       "\n",
       "              RMED      RDEP   RHOB          GR  ...  Carbon_Index  \\\n",
       "0      -999.000000  0.878615 -999.0  103.451515  ...        -999.0   \n",
       "1      -999.000000  0.874237 -999.0   94.124893  ...        -999.0   \n",
       "2      -999.000000  0.869858 -999.0   93.586487  ...        -999.0   \n",
       "3      -999.000000  0.865479 -999.0   91.113373  ...        -999.0   \n",
       "4         0.849849  0.863804 -999.0  100.228333  ...        -999.0   \n",
       "...            ...       ...    ...         ...  ...           ...   \n",
       "122392    2.820439  3.158570 -999.0   90.720284  ...        -999.0   \n",
       "122393    3.020778  3.332977 -999.0   87.062027  ...        -999.0   \n",
       "122394    2.795711  3.044179 -999.0   86.115921  ...        -999.0   \n",
       "122395    2.658694  2.847681 -999.0   89.497131  ...        -999.0   \n",
       "122396    2.802693  2.972499 -999.0  100.418251  ...        -999.0   \n",
       "\n",
       "        Normalized_RHOB  Normalized_GR  Delta_DTC  Delta_RHOB   Delta_GR  \\\n",
       "0                -999.0       0.229715  -0.000000      -999.0  -0.000000   \n",
       "1                -999.0       0.206369   1.616959      -999.0   9.326622   \n",
       "2                -999.0       0.205021   0.131363      -999.0   0.538406   \n",
       "3                -999.0       0.198831   1.637512      -999.0   2.473114   \n",
       "4                -999.0       0.221647   0.819153      -999.0  -9.114960   \n",
       "...                 ...            ...        ...         ...        ...   \n",
       "122392           -999.0       0.455601   0.591225      -999.0   1.536675   \n",
       "122393           -999.0       0.436064   0.392357      -999.0   3.658257   \n",
       "122394           -999.0       0.431012   0.020180      -999.0   0.946106   \n",
       "122395           -999.0       0.449069  -0.115906      -999.0  -3.381210   \n",
       "122396           -999.0       0.507392  -0.147377      -999.0 -10.921120   \n",
       "\n",
       "        Delta_DEPTH_MD  Delta_Carbon_Index  GROUP_encoded  FORMATION_encoded  \n",
       "0                0.000              -999.0              5                 51  \n",
       "1                0.152              -999.0              5                 51  \n",
       "2                0.152              -999.0              5                 51  \n",
       "3                0.152              -999.0              5                 51  \n",
       "4                0.152              -999.0              5                 51  \n",
       "...                ...                 ...            ...                ...  \n",
       "122392           0.152              -999.0              0                 16  \n",
       "122393           0.152              -999.0              0                 16  \n",
       "122394           0.152              -999.0              0                 16  \n",
       "122395           0.152              -999.0              0                 16  \n",
       "122396           0.152              -999.0              0                 16  \n",
       "\n",
       "[122397 rows x 30 columns]"
      ],
      "text/html": "<div>\n<style scoped>\n    .dataframe tbody tr th:only-of-type {\n        vertical-align: middle;\n    }\n\n    .dataframe tbody tr th {\n        vertical-align: top;\n    }\n\n    .dataframe thead th {\n        text-align: right;\n    }\n</style>\n<table border=\"1\" class=\"dataframe\">\n  <thead>\n    <tr style=\"text-align: right;\">\n      <th></th>\n      <th>DEPTH_MD</th>\n      <th>X_LOC</th>\n      <th>Y_LOC</th>\n      <th>Z_LOC</th>\n      <th>CALI</th>\n      <th>RSHA</th>\n      <th>RMED</th>\n      <th>RDEP</th>\n      <th>RHOB</th>\n      <th>GR</th>\n      <th>...</th>\n      <th>Carbon_Index</th>\n      <th>Normalized_RHOB</th>\n      <th>Normalized_GR</th>\n      <th>Delta_DTC</th>\n      <th>Delta_RHOB</th>\n      <th>Delta_GR</th>\n      <th>Delta_DEPTH_MD</th>\n      <th>Delta_Carbon_Index</th>\n      <th>GROUP_encoded</th>\n      <th>FORMATION_encoded</th>\n    </tr>\n  </thead>\n  <tbody>\n    <tr>\n      <th>0</th>\n      <td>1518.2800</td>\n      <td>433906.7500</td>\n      <td>6460000.5</td>\n      <td>-1493.241821</td>\n      <td>15.506232</td>\n      <td>-999.0</td>\n      <td>-999.000000</td>\n      <td>0.878615</td>\n      <td>-999.0</td>\n      <td>103.451515</td>\n      <td>...</td>\n      <td>-999.0</td>\n      <td>-999.0</td>\n      <td>0.229715</td>\n      <td>-0.000000</td>\n      <td>-999.0</td>\n      <td>-0.000000</td>\n      <td>0.000</td>\n      <td>-999.0</td>\n      <td>5</td>\n      <td>51</td>\n    </tr>\n    <tr>\n      <th>1</th>\n      <td>1518.4320</td>\n      <td>433906.7500</td>\n      <td>6460000.5</td>\n      <td>-1493.393799</td>\n      <td>18.524611</td>\n      <td>-999.0</td>\n      <td>-999.000000</td>\n      <td>0.874237</td>\n      <td>-999.0</td>\n      <td>94.124893</td>\n      <td>...</td>\n      <td>-999.0</td>\n      <td>-999.0</td>\n      <td>0.206369</td>\n      <td>1.616959</td>\n      <td>-999.0</td>\n      <td>9.326622</td>\n      <td>0.152</td>\n      <td>-999.0</td>\n      <td>5</td>\n      <td>51</td>\n    </tr>\n    <tr>\n      <th>2</th>\n      <td>1518.5840</td>\n      <td>433906.7500</td>\n      <td>6460000.5</td>\n      <td>-1493.545776</td>\n      <td>18.855669</td>\n      <td>-999.0</td>\n      <td>-999.000000</td>\n      <td>0.869858</td>\n      <td>-999.0</td>\n      <td>93.586487</td>\n      <td>...</td>\n      <td>-999.0</td>\n      <td>-999.0</td>\n      <td>0.205021</td>\n      <td>0.131363</td>\n      <td>-999.0</td>\n      <td>0.538406</td>\n      <td>0.152</td>\n      <td>-999.0</td>\n      <td>5</td>\n      <td>51</td>\n    </tr>\n    <tr>\n      <th>3</th>\n      <td>1518.7360</td>\n      <td>433906.7500</td>\n      <td>6460000.5</td>\n      <td>-1493.697754</td>\n      <td>19.163353</td>\n      <td>-999.0</td>\n      <td>-999.000000</td>\n      <td>0.865479</td>\n      <td>-999.0</td>\n      <td>91.113373</td>\n      <td>...</td>\n      <td>-999.0</td>\n      <td>-999.0</td>\n      <td>0.198831</td>\n      <td>1.637512</td>\n      <td>-999.0</td>\n      <td>2.473114</td>\n      <td>0.152</td>\n      <td>-999.0</td>\n      <td>5</td>\n      <td>51</td>\n    </tr>\n    <tr>\n      <th>4</th>\n      <td>1518.8880</td>\n      <td>433906.7500</td>\n      <td>6460000.5</td>\n      <td>-1493.849609</td>\n      <td>18.489744</td>\n      <td>-999.0</td>\n      <td>0.849849</td>\n      <td>0.863804</td>\n      <td>-999.0</td>\n      <td>100.228333</td>\n      <td>...</td>\n      <td>-999.0</td>\n      <td>-999.0</td>\n      <td>0.221647</td>\n      <td>0.819153</td>\n      <td>-999.0</td>\n      <td>-9.114960</td>\n      <td>0.152</td>\n      <td>-999.0</td>\n      <td>5</td>\n      <td>51</td>\n    </tr>\n    <tr>\n      <th>...</th>\n      <td>...</td>\n      <td>...</td>\n      <td>...</td>\n      <td>...</td>\n      <td>...</td>\n      <td>...</td>\n      <td>...</td>\n      <td>...</td>\n      <td>...</td>\n      <td>...</td>\n      <td>...</td>\n      <td>...</td>\n      <td>...</td>\n      <td>...</td>\n      <td>...</td>\n      <td>...</td>\n      <td>...</td>\n      <td>...</td>\n      <td>...</td>\n      <td>...</td>\n      <td>...</td>\n    </tr>\n    <tr>\n      <th>122392</th>\n      <td>2973.2988</td>\n      <td>536096.0625</td>\n      <td>6793022.0</td>\n      <td>-2943.444580</td>\n      <td>8.276272</td>\n      <td>-999.0</td>\n      <td>2.820439</td>\n      <td>3.158570</td>\n      <td>-999.0</td>\n      <td>90.720284</td>\n      <td>...</td>\n      <td>-999.0</td>\n      <td>-999.0</td>\n      <td>0.455601</td>\n      <td>0.591225</td>\n      <td>-999.0</td>\n      <td>1.536675</td>\n      <td>0.152</td>\n      <td>-999.0</td>\n      <td>0</td>\n      <td>16</td>\n    </tr>\n    <tr>\n      <th>122393</th>\n      <td>2973.4508</td>\n      <td>536096.0625</td>\n      <td>6793022.0</td>\n      <td>-2943.595947</td>\n      <td>8.267273</td>\n      <td>-999.0</td>\n      <td>3.020778</td>\n      <td>3.332977</td>\n      <td>-999.0</td>\n      <td>87.062027</td>\n      <td>...</td>\n      <td>-999.0</td>\n      <td>-999.0</td>\n      <td>0.436064</td>\n      <td>0.392357</td>\n      <td>-999.0</td>\n      <td>3.658257</td>\n      <td>0.152</td>\n      <td>-999.0</td>\n      <td>0</td>\n      <td>16</td>\n    </tr>\n    <tr>\n      <th>122394</th>\n      <td>2973.6028</td>\n      <td>536096.0625</td>\n      <td>6793022.0</td>\n      <td>-2943.747559</td>\n      <td>8.250099</td>\n      <td>-999.0</td>\n      <td>2.795711</td>\n      <td>3.044179</td>\n      <td>-999.0</td>\n      <td>86.115921</td>\n      <td>...</td>\n      <td>-999.0</td>\n      <td>-999.0</td>\n      <td>0.431012</td>\n      <td>0.020180</td>\n      <td>-999.0</td>\n      <td>0.946106</td>\n      <td>0.152</td>\n      <td>-999.0</td>\n      <td>0</td>\n      <td>16</td>\n    </tr>\n    <tr>\n      <th>122395</th>\n      <td>2973.7548</td>\n      <td>536096.0625</td>\n      <td>6793022.0</td>\n      <td>-2943.899170</td>\n      <td>-999.000000</td>\n      <td>-999.0</td>\n      <td>2.658694</td>\n      <td>2.847681</td>\n      <td>-999.0</td>\n      <td>89.497131</td>\n      <td>...</td>\n      <td>-999.0</td>\n      <td>-999.0</td>\n      <td>0.449069</td>\n      <td>-0.115906</td>\n      <td>-999.0</td>\n      <td>-3.381210</td>\n      <td>0.152</td>\n      <td>-999.0</td>\n      <td>0</td>\n      <td>16</td>\n    </tr>\n    <tr>\n      <th>122396</th>\n      <td>2973.9068</td>\n      <td>536096.0625</td>\n      <td>6793022.0</td>\n      <td>-2944.050537</td>\n      <td>-999.000000</td>\n      <td>-999.0</td>\n      <td>2.802693</td>\n      <td>2.972499</td>\n      <td>-999.0</td>\n      <td>100.418251</td>\n      <td>...</td>\n      <td>-999.0</td>\n      <td>-999.0</td>\n      <td>0.507392</td>\n      <td>-0.147377</td>\n      <td>-999.0</td>\n      <td>-10.921120</td>\n      <td>0.152</td>\n      <td>-999.0</td>\n      <td>0</td>\n      <td>16</td>\n    </tr>\n  </tbody>\n</table>\n<p>122397 rows × 30 columns</p>\n</div>"
     },
     "metadata": {},
     "execution_count": 3
    }
   ],
   "source": [
    "# After\n",
    "df_hidden = pd.read_csv('datasets/hidden.csv', sep=';')\n",
    "df_hidden\n"
   ]
  }
 ]
}