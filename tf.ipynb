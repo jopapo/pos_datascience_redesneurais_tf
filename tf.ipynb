{
 "metadata": {
  "language_info": {
   "codemirror_mode": {
    "name": "ipython",
    "version": 3
   },
   "file_extension": ".py",
   "mimetype": "text/x-python",
   "name": "python",
   "nbconvert_exporter": "python",
   "pygments_lexer": "ipython3",
   "version": "3.7.3"
  },
  "orig_nbformat": 4,
  "kernelspec": {
   "name": "tf-redesneurais",
   "display_name": "Python 3.7.3 64-bit ('venv-jupyter': virtualenv)"
  },
  "interpreter": {
   "hash": "0600588c3b5f4418cbe7b5ebc6825b479f3bc010269d8b60d75058cdd010adfe"
  }
 },
 "nbformat": 4,
 "nbformat_minor": 2,
 "cells": [
  {
   "source": [
    "# Trabalho Final"
   ],
   "cell_type": "markdown",
   "metadata": {}
  },
  {
   "cell_type": "code",
   "execution_count": 6,
   "metadata": {},
   "outputs": [],
   "source": [
    "# Importação das libs necessárias\n",
    "import torch\n",
    "import torch.nn as nn\n",
    "import numpy as np\n",
    "import matplotlib.pyplot as plt\n",
    "import pandas as pd"
   ]
  },
  {
   "source": [
    "## Carga e tratamento dos dados"
   ],
   "cell_type": "markdown",
   "metadata": {}
  },
  {
   "cell_type": "code",
   "execution_count": 10,
   "metadata": {},
   "outputs": [
    {
     "output_type": "execute_result",
     "data": {
      "text/plain": [
       "          DEPTH_MD         X_LOC      Y_LOC       Z_LOC       CALI   RSHA  \\\n",
       "0         494.5280  437641.96875  6470972.5 -469.501831  19.480835 -999.0   \n",
       "1         494.6800  437641.96875  6470972.5 -469.653809  19.468800 -999.0   \n",
       "2         494.8320  437641.96875  6470972.5 -469.805786  19.468800 -999.0   \n",
       "3         494.9840  437641.96875  6470972.5 -469.957794  19.459282 -999.0   \n",
       "4         495.1360  437641.96875  6470972.5 -470.109772  19.453100 -999.0   \n",
       "...            ...           ...        ...         ...        ...    ...   \n",
       "1170506  3169.3124  444920.37500  6421578.0 -999.000000   8.423170 -999.0   \n",
       "1170507  3169.4644  444920.37500  6421578.0 -999.000000   8.379244 -999.0   \n",
       "1170508  3169.6164  444920.37500  6421578.0 -999.000000   8.350248 -999.0   \n",
       "1170509  3169.7684  444920.37500  6421578.0 -999.000000   8.313779 -999.0   \n",
       "1170510  3169.9204  444920.37500  6421578.0 -999.000000   8.294910 -999.0   \n",
       "\n",
       "               RMED        RDEP      RHOB         GR  ...  Carbon_Index  \\\n",
       "0          1.611410    1.798681  1.884186  80.200851  ...     24.735691   \n",
       "1          1.618070    1.795641  1.889794  79.262886  ...     24.492376   \n",
       "2          1.626459    1.800733  1.896523  74.821999  ...     24.202299   \n",
       "3          1.621594    1.801517  1.891913  72.878922  ...     24.400797   \n",
       "4          1.602679    1.795299  1.880034  71.729141  ...     24.916765   \n",
       "...             ...         ...       ...        ...  ...           ...   \n",
       "1170506 -999.000000 -999.000000  2.527984  77.654900  ...      3.853715   \n",
       "1170507 -999.000000 -999.000000  2.537613  75.363937  ...      3.621808   \n",
       "1170508 -999.000000 -999.000000  2.491860  66.452843  ...      4.739676   \n",
       "1170509 -999.000000 -999.000000  2.447539  55.784817  ...      5.862411   \n",
       "1170510 -999.000000 -999.000000  2.430716  48.432129  ...      6.299290   \n",
       "\n",
       "         Normalized_RHOB  Normalized_GR  Delta_DTC  Delta_RHOB   Delta_GR  \\\n",
       "0               0.314847       0.150172  -0.000000   -0.000000  -0.000000   \n",
       "1               0.318528       0.148269   0.527710   -0.005608   0.937965   \n",
       "2               0.322946       0.139258   0.429855   -0.006729   4.440887   \n",
       "3               0.319919       0.135315   0.024185    0.004610   1.943077   \n",
       "4               0.312121       0.132982   0.021088    0.011879   1.149780   \n",
       "...                  ...            ...        ...         ...        ...   \n",
       "1170506         0.906928       0.188539   5.709644   -0.050081 -15.087708   \n",
       "1170507         0.924426       0.181304   1.034114   -0.009629   2.290962   \n",
       "1170508         0.841284       0.153161  -5.094579    0.045753   8.911095   \n",
       "1170509         0.760743       0.119469  -5.401767    0.044321  10.668026   \n",
       "1170510         0.730172       0.096247  -2.181371    0.016823   7.352688   \n",
       "\n",
       "         Delta_DEPTH_MD  Delta_Carbon_Index  GROUP_encoded  FORMATION_encoded  \n",
       "0                 0.000            0.000000              6                 68  \n",
       "1                 0.152           -0.243315              6                 68  \n",
       "2                 0.152           -0.290077              6                 68  \n",
       "3                 0.152            0.198498              6                 68  \n",
       "4                 0.152            0.515968              6                 68  \n",
       "...                 ...                 ...            ...                ...  \n",
       "1170506           0.152           -1.235199             11                  7  \n",
       "1170507           0.152           -0.231906             11                  7  \n",
       "1170508           0.152            1.117868             11                  7  \n",
       "1170509           0.152            1.122734             11                  7  \n",
       "1170510           0.152            0.436879             11                  7  \n",
       "\n",
       "[1170511 rows x 31 columns]"
      ],
      "text/html": "<div>\n<style scoped>\n    .dataframe tbody tr th:only-of-type {\n        vertical-align: middle;\n    }\n\n    .dataframe tbody tr th {\n        vertical-align: top;\n    }\n\n    .dataframe thead th {\n        text-align: right;\n    }\n</style>\n<table border=\"1\" class=\"dataframe\">\n  <thead>\n    <tr style=\"text-align: right;\">\n      <th></th>\n      <th>DEPTH_MD</th>\n      <th>X_LOC</th>\n      <th>Y_LOC</th>\n      <th>Z_LOC</th>\n      <th>CALI</th>\n      <th>RSHA</th>\n      <th>RMED</th>\n      <th>RDEP</th>\n      <th>RHOB</th>\n      <th>GR</th>\n      <th>...</th>\n      <th>Carbon_Index</th>\n      <th>Normalized_RHOB</th>\n      <th>Normalized_GR</th>\n      <th>Delta_DTC</th>\n      <th>Delta_RHOB</th>\n      <th>Delta_GR</th>\n      <th>Delta_DEPTH_MD</th>\n      <th>Delta_Carbon_Index</th>\n      <th>GROUP_encoded</th>\n      <th>FORMATION_encoded</th>\n    </tr>\n  </thead>\n  <tbody>\n    <tr>\n      <th>0</th>\n      <td>494.5280</td>\n      <td>437641.96875</td>\n      <td>6470972.5</td>\n      <td>-469.501831</td>\n      <td>19.480835</td>\n      <td>-999.0</td>\n      <td>1.611410</td>\n      <td>1.798681</td>\n      <td>1.884186</td>\n      <td>80.200851</td>\n      <td>...</td>\n      <td>24.735691</td>\n      <td>0.314847</td>\n      <td>0.150172</td>\n      <td>-0.000000</td>\n      <td>-0.000000</td>\n      <td>-0.000000</td>\n      <td>0.000</td>\n      <td>0.000000</td>\n      <td>6</td>\n      <td>68</td>\n    </tr>\n    <tr>\n      <th>1</th>\n      <td>494.6800</td>\n      <td>437641.96875</td>\n      <td>6470972.5</td>\n      <td>-469.653809</td>\n      <td>19.468800</td>\n      <td>-999.0</td>\n      <td>1.618070</td>\n      <td>1.795641</td>\n      <td>1.889794</td>\n      <td>79.262886</td>\n      <td>...</td>\n      <td>24.492376</td>\n      <td>0.318528</td>\n      <td>0.148269</td>\n      <td>0.527710</td>\n      <td>-0.005608</td>\n      <td>0.937965</td>\n      <td>0.152</td>\n      <td>-0.243315</td>\n      <td>6</td>\n      <td>68</td>\n    </tr>\n    <tr>\n      <th>2</th>\n      <td>494.8320</td>\n      <td>437641.96875</td>\n      <td>6470972.5</td>\n      <td>-469.805786</td>\n      <td>19.468800</td>\n      <td>-999.0</td>\n      <td>1.626459</td>\n      <td>1.800733</td>\n      <td>1.896523</td>\n      <td>74.821999</td>\n      <td>...</td>\n      <td>24.202299</td>\n      <td>0.322946</td>\n      <td>0.139258</td>\n      <td>0.429855</td>\n      <td>-0.006729</td>\n      <td>4.440887</td>\n      <td>0.152</td>\n      <td>-0.290077</td>\n      <td>6</td>\n      <td>68</td>\n    </tr>\n    <tr>\n      <th>3</th>\n      <td>494.9840</td>\n      <td>437641.96875</td>\n      <td>6470972.5</td>\n      <td>-469.957794</td>\n      <td>19.459282</td>\n      <td>-999.0</td>\n      <td>1.621594</td>\n      <td>1.801517</td>\n      <td>1.891913</td>\n      <td>72.878922</td>\n      <td>...</td>\n      <td>24.400797</td>\n      <td>0.319919</td>\n      <td>0.135315</td>\n      <td>0.024185</td>\n      <td>0.004610</td>\n      <td>1.943077</td>\n      <td>0.152</td>\n      <td>0.198498</td>\n      <td>6</td>\n      <td>68</td>\n    </tr>\n    <tr>\n      <th>4</th>\n      <td>495.1360</td>\n      <td>437641.96875</td>\n      <td>6470972.5</td>\n      <td>-470.109772</td>\n      <td>19.453100</td>\n      <td>-999.0</td>\n      <td>1.602679</td>\n      <td>1.795299</td>\n      <td>1.880034</td>\n      <td>71.729141</td>\n      <td>...</td>\n      <td>24.916765</td>\n      <td>0.312121</td>\n      <td>0.132982</td>\n      <td>0.021088</td>\n      <td>0.011879</td>\n      <td>1.149780</td>\n      <td>0.152</td>\n      <td>0.515968</td>\n      <td>6</td>\n      <td>68</td>\n    </tr>\n    <tr>\n      <th>...</th>\n      <td>...</td>\n      <td>...</td>\n      <td>...</td>\n      <td>...</td>\n      <td>...</td>\n      <td>...</td>\n      <td>...</td>\n      <td>...</td>\n      <td>...</td>\n      <td>...</td>\n      <td>...</td>\n      <td>...</td>\n      <td>...</td>\n      <td>...</td>\n      <td>...</td>\n      <td>...</td>\n      <td>...</td>\n      <td>...</td>\n      <td>...</td>\n      <td>...</td>\n      <td>...</td>\n    </tr>\n    <tr>\n      <th>1170506</th>\n      <td>3169.3124</td>\n      <td>444920.37500</td>\n      <td>6421578.0</td>\n      <td>-999.000000</td>\n      <td>8.423170</td>\n      <td>-999.0</td>\n      <td>-999.000000</td>\n      <td>-999.000000</td>\n      <td>2.527984</td>\n      <td>77.654900</td>\n      <td>...</td>\n      <td>3.853715</td>\n      <td>0.906928</td>\n      <td>0.188539</td>\n      <td>5.709644</td>\n      <td>-0.050081</td>\n      <td>-15.087708</td>\n      <td>0.152</td>\n      <td>-1.235199</td>\n      <td>11</td>\n      <td>7</td>\n    </tr>\n    <tr>\n      <th>1170507</th>\n      <td>3169.4644</td>\n      <td>444920.37500</td>\n      <td>6421578.0</td>\n      <td>-999.000000</td>\n      <td>8.379244</td>\n      <td>-999.0</td>\n      <td>-999.000000</td>\n      <td>-999.000000</td>\n      <td>2.537613</td>\n      <td>75.363937</td>\n      <td>...</td>\n      <td>3.621808</td>\n      <td>0.924426</td>\n      <td>0.181304</td>\n      <td>1.034114</td>\n      <td>-0.009629</td>\n      <td>2.290962</td>\n      <td>0.152</td>\n      <td>-0.231906</td>\n      <td>11</td>\n      <td>7</td>\n    </tr>\n    <tr>\n      <th>1170508</th>\n      <td>3169.6164</td>\n      <td>444920.37500</td>\n      <td>6421578.0</td>\n      <td>-999.000000</td>\n      <td>8.350248</td>\n      <td>-999.0</td>\n      <td>-999.000000</td>\n      <td>-999.000000</td>\n      <td>2.491860</td>\n      <td>66.452843</td>\n      <td>...</td>\n      <td>4.739676</td>\n      <td>0.841284</td>\n      <td>0.153161</td>\n      <td>-5.094579</td>\n      <td>0.045753</td>\n      <td>8.911095</td>\n      <td>0.152</td>\n      <td>1.117868</td>\n      <td>11</td>\n      <td>7</td>\n    </tr>\n    <tr>\n      <th>1170509</th>\n      <td>3169.7684</td>\n      <td>444920.37500</td>\n      <td>6421578.0</td>\n      <td>-999.000000</td>\n      <td>8.313779</td>\n      <td>-999.0</td>\n      <td>-999.000000</td>\n      <td>-999.000000</td>\n      <td>2.447539</td>\n      <td>55.784817</td>\n      <td>...</td>\n      <td>5.862411</td>\n      <td>0.760743</td>\n      <td>0.119469</td>\n      <td>-5.401767</td>\n      <td>0.044321</td>\n      <td>10.668026</td>\n      <td>0.152</td>\n      <td>1.122734</td>\n      <td>11</td>\n      <td>7</td>\n    </tr>\n    <tr>\n      <th>1170510</th>\n      <td>3169.9204</td>\n      <td>444920.37500</td>\n      <td>6421578.0</td>\n      <td>-999.000000</td>\n      <td>8.294910</td>\n      <td>-999.0</td>\n      <td>-999.000000</td>\n      <td>-999.000000</td>\n      <td>2.430716</td>\n      <td>48.432129</td>\n      <td>...</td>\n      <td>6.299290</td>\n      <td>0.730172</td>\n      <td>0.096247</td>\n      <td>-2.181371</td>\n      <td>0.016823</td>\n      <td>7.352688</td>\n      <td>0.152</td>\n      <td>0.436879</td>\n      <td>11</td>\n      <td>7</td>\n    </tr>\n  </tbody>\n</table>\n<p>1170511 rows × 31 columns</p>\n</div>"
     },
     "metadata": {},
     "execution_count": 10
    }
   ],
   "source": [
    "df_lithology = pd.read_csv('datasets/lithology.csv', sep=';')\n",
    "df_lithology\n"
   ]
  },
  {
   "cell_type": "code",
   "execution_count": 11,
   "metadata": {},
   "outputs": [
    {
     "output_type": "execute_result",
     "data": {
      "text/plain": [
       "         DEPTH_MD        X_LOC      Y_LOC        Z_LOC        CALI   RSHA  \\\n",
       "0       1518.2800  433906.7500  6460000.5 -1493.241821   15.506232 -999.0   \n",
       "1       1518.4320  433906.7500  6460000.5 -1493.393799   18.524611 -999.0   \n",
       "2       1518.5840  433906.7500  6460000.5 -1493.545776   18.855669 -999.0   \n",
       "3       1518.7360  433906.7500  6460000.5 -1493.697754   19.163353 -999.0   \n",
       "4       1518.8880  433906.7500  6460000.5 -1493.849609   18.489744 -999.0   \n",
       "...           ...          ...        ...          ...         ...    ...   \n",
       "122392  2973.2988  536096.0625  6793022.0 -2943.444580    8.276272 -999.0   \n",
       "122393  2973.4508  536096.0625  6793022.0 -2943.595947    8.267273 -999.0   \n",
       "122394  2973.6028  536096.0625  6793022.0 -2943.747559    8.250099 -999.0   \n",
       "122395  2973.7548  536096.0625  6793022.0 -2943.899170 -999.000000 -999.0   \n",
       "122396  2973.9068  536096.0625  6793022.0 -2944.050537 -999.000000 -999.0   \n",
       "\n",
       "              RMED      RDEP   RHOB          GR  ...  Carbon_Index  \\\n",
       "0      -999.000000  0.878615 -999.0  103.451515  ...        -999.0   \n",
       "1      -999.000000  0.874237 -999.0   94.124893  ...        -999.0   \n",
       "2      -999.000000  0.869858 -999.0   93.586487  ...        -999.0   \n",
       "3      -999.000000  0.865479 -999.0   91.113373  ...        -999.0   \n",
       "4         0.849849  0.863804 -999.0  100.228333  ...        -999.0   \n",
       "...            ...       ...    ...         ...  ...           ...   \n",
       "122392    2.820439  3.158570 -999.0   90.720284  ...        -999.0   \n",
       "122393    3.020778  3.332977 -999.0   87.062027  ...        -999.0   \n",
       "122394    2.795711  3.044179 -999.0   86.115921  ...        -999.0   \n",
       "122395    2.658694  2.847681 -999.0   89.497131  ...        -999.0   \n",
       "122396    2.802693  2.972499 -999.0  100.418251  ...        -999.0   \n",
       "\n",
       "        Normalized_RHOB  Normalized_GR  Delta_DTC  Delta_RHOB   Delta_GR  \\\n",
       "0                -999.0       0.229715  -0.000000      -999.0  -0.000000   \n",
       "1                -999.0       0.206369   1.616959      -999.0   9.326622   \n",
       "2                -999.0       0.205021   0.131363      -999.0   0.538406   \n",
       "3                -999.0       0.198831   1.637512      -999.0   2.473114   \n",
       "4                -999.0       0.221647   0.819153      -999.0  -9.114960   \n",
       "...                 ...            ...        ...         ...        ...   \n",
       "122392           -999.0       0.455601   0.591225      -999.0   1.536675   \n",
       "122393           -999.0       0.436064   0.392357      -999.0   3.658257   \n",
       "122394           -999.0       0.431012   0.020180      -999.0   0.946106   \n",
       "122395           -999.0       0.449069  -0.115906      -999.0  -3.381210   \n",
       "122396           -999.0       0.507392  -0.147377      -999.0 -10.921120   \n",
       "\n",
       "        Delta_DEPTH_MD  Delta_Carbon_Index  GROUP_encoded  FORMATION_encoded  \n",
       "0                0.000              -999.0              5                 51  \n",
       "1                0.152              -999.0              5                 51  \n",
       "2                0.152              -999.0              5                 51  \n",
       "3                0.152              -999.0              5                 51  \n",
       "4                0.152              -999.0              5                 51  \n",
       "...                ...                 ...            ...                ...  \n",
       "122392           0.152              -999.0              0                 16  \n",
       "122393           0.152              -999.0              0                 16  \n",
       "122394           0.152              -999.0              0                 16  \n",
       "122395           0.152              -999.0              0                 16  \n",
       "122396           0.152              -999.0              0                 16  \n",
       "\n",
       "[122397 rows x 30 columns]"
      ],
      "text/html": "<div>\n<style scoped>\n    .dataframe tbody tr th:only-of-type {\n        vertical-align: middle;\n    }\n\n    .dataframe tbody tr th {\n        vertical-align: top;\n    }\n\n    .dataframe thead th {\n        text-align: right;\n    }\n</style>\n<table border=\"1\" class=\"dataframe\">\n  <thead>\n    <tr style=\"text-align: right;\">\n      <th></th>\n      <th>DEPTH_MD</th>\n      <th>X_LOC</th>\n      <th>Y_LOC</th>\n      <th>Z_LOC</th>\n      <th>CALI</th>\n      <th>RSHA</th>\n      <th>RMED</th>\n      <th>RDEP</th>\n      <th>RHOB</th>\n      <th>GR</th>\n      <th>...</th>\n      <th>Carbon_Index</th>\n      <th>Normalized_RHOB</th>\n      <th>Normalized_GR</th>\n      <th>Delta_DTC</th>\n      <th>Delta_RHOB</th>\n      <th>Delta_GR</th>\n      <th>Delta_DEPTH_MD</th>\n      <th>Delta_Carbon_Index</th>\n      <th>GROUP_encoded</th>\n      <th>FORMATION_encoded</th>\n    </tr>\n  </thead>\n  <tbody>\n    <tr>\n      <th>0</th>\n      <td>1518.2800</td>\n      <td>433906.7500</td>\n      <td>6460000.5</td>\n      <td>-1493.241821</td>\n      <td>15.506232</td>\n      <td>-999.0</td>\n      <td>-999.000000</td>\n      <td>0.878615</td>\n      <td>-999.0</td>\n      <td>103.451515</td>\n      <td>...</td>\n      <td>-999.0</td>\n      <td>-999.0</td>\n      <td>0.229715</td>\n      <td>-0.000000</td>\n      <td>-999.0</td>\n      <td>-0.000000</td>\n      <td>0.000</td>\n      <td>-999.0</td>\n      <td>5</td>\n      <td>51</td>\n    </tr>\n    <tr>\n      <th>1</th>\n      <td>1518.4320</td>\n      <td>433906.7500</td>\n      <td>6460000.5</td>\n      <td>-1493.393799</td>\n      <td>18.524611</td>\n      <td>-999.0</td>\n      <td>-999.000000</td>\n      <td>0.874237</td>\n      <td>-999.0</td>\n      <td>94.124893</td>\n      <td>...</td>\n      <td>-999.0</td>\n      <td>-999.0</td>\n      <td>0.206369</td>\n      <td>1.616959</td>\n      <td>-999.0</td>\n      <td>9.326622</td>\n      <td>0.152</td>\n      <td>-999.0</td>\n      <td>5</td>\n      <td>51</td>\n    </tr>\n    <tr>\n      <th>2</th>\n      <td>1518.5840</td>\n      <td>433906.7500</td>\n      <td>6460000.5</td>\n      <td>-1493.545776</td>\n      <td>18.855669</td>\n      <td>-999.0</td>\n      <td>-999.000000</td>\n      <td>0.869858</td>\n      <td>-999.0</td>\n      <td>93.586487</td>\n      <td>...</td>\n      <td>-999.0</td>\n      <td>-999.0</td>\n      <td>0.205021</td>\n      <td>0.131363</td>\n      <td>-999.0</td>\n      <td>0.538406</td>\n      <td>0.152</td>\n      <td>-999.0</td>\n      <td>5</td>\n      <td>51</td>\n    </tr>\n    <tr>\n      <th>3</th>\n      <td>1518.7360</td>\n      <td>433906.7500</td>\n      <td>6460000.5</td>\n      <td>-1493.697754</td>\n      <td>19.163353</td>\n      <td>-999.0</td>\n      <td>-999.000000</td>\n      <td>0.865479</td>\n      <td>-999.0</td>\n      <td>91.113373</td>\n      <td>...</td>\n      <td>-999.0</td>\n      <td>-999.0</td>\n      <td>0.198831</td>\n      <td>1.637512</td>\n      <td>-999.0</td>\n      <td>2.473114</td>\n      <td>0.152</td>\n      <td>-999.0</td>\n      <td>5</td>\n      <td>51</td>\n    </tr>\n    <tr>\n      <th>4</th>\n      <td>1518.8880</td>\n      <td>433906.7500</td>\n      <td>6460000.5</td>\n      <td>-1493.849609</td>\n      <td>18.489744</td>\n      <td>-999.0</td>\n      <td>0.849849</td>\n      <td>0.863804</td>\n      <td>-999.0</td>\n      <td>100.228333</td>\n      <td>...</td>\n      <td>-999.0</td>\n      <td>-999.0</td>\n      <td>0.221647</td>\n      <td>0.819153</td>\n      <td>-999.0</td>\n      <td>-9.114960</td>\n      <td>0.152</td>\n      <td>-999.0</td>\n      <td>5</td>\n      <td>51</td>\n    </tr>\n    <tr>\n      <th>...</th>\n      <td>...</td>\n      <td>...</td>\n      <td>...</td>\n      <td>...</td>\n      <td>...</td>\n      <td>...</td>\n      <td>...</td>\n      <td>...</td>\n      <td>...</td>\n      <td>...</td>\n      <td>...</td>\n      <td>...</td>\n      <td>...</td>\n      <td>...</td>\n      <td>...</td>\n      <td>...</td>\n      <td>...</td>\n      <td>...</td>\n      <td>...</td>\n      <td>...</td>\n      <td>...</td>\n    </tr>\n    <tr>\n      <th>122392</th>\n      <td>2973.2988</td>\n      <td>536096.0625</td>\n      <td>6793022.0</td>\n      <td>-2943.444580</td>\n      <td>8.276272</td>\n      <td>-999.0</td>\n      <td>2.820439</td>\n      <td>3.158570</td>\n      <td>-999.0</td>\n      <td>90.720284</td>\n      <td>...</td>\n      <td>-999.0</td>\n      <td>-999.0</td>\n      <td>0.455601</td>\n      <td>0.591225</td>\n      <td>-999.0</td>\n      <td>1.536675</td>\n      <td>0.152</td>\n      <td>-999.0</td>\n      <td>0</td>\n      <td>16</td>\n    </tr>\n    <tr>\n      <th>122393</th>\n      <td>2973.4508</td>\n      <td>536096.0625</td>\n      <td>6793022.0</td>\n      <td>-2943.595947</td>\n      <td>8.267273</td>\n      <td>-999.0</td>\n      <td>3.020778</td>\n      <td>3.332977</td>\n      <td>-999.0</td>\n      <td>87.062027</td>\n      <td>...</td>\n      <td>-999.0</td>\n      <td>-999.0</td>\n      <td>0.436064</td>\n      <td>0.392357</td>\n      <td>-999.0</td>\n      <td>3.658257</td>\n      <td>0.152</td>\n      <td>-999.0</td>\n      <td>0</td>\n      <td>16</td>\n    </tr>\n    <tr>\n      <th>122394</th>\n      <td>2973.6028</td>\n      <td>536096.0625</td>\n      <td>6793022.0</td>\n      <td>-2943.747559</td>\n      <td>8.250099</td>\n      <td>-999.0</td>\n      <td>2.795711</td>\n      <td>3.044179</td>\n      <td>-999.0</td>\n      <td>86.115921</td>\n      <td>...</td>\n      <td>-999.0</td>\n      <td>-999.0</td>\n      <td>0.431012</td>\n      <td>0.020180</td>\n      <td>-999.0</td>\n      <td>0.946106</td>\n      <td>0.152</td>\n      <td>-999.0</td>\n      <td>0</td>\n      <td>16</td>\n    </tr>\n    <tr>\n      <th>122395</th>\n      <td>2973.7548</td>\n      <td>536096.0625</td>\n      <td>6793022.0</td>\n      <td>-2943.899170</td>\n      <td>-999.000000</td>\n      <td>-999.0</td>\n      <td>2.658694</td>\n      <td>2.847681</td>\n      <td>-999.0</td>\n      <td>89.497131</td>\n      <td>...</td>\n      <td>-999.0</td>\n      <td>-999.0</td>\n      <td>0.449069</td>\n      <td>-0.115906</td>\n      <td>-999.0</td>\n      <td>-3.381210</td>\n      <td>0.152</td>\n      <td>-999.0</td>\n      <td>0</td>\n      <td>16</td>\n    </tr>\n    <tr>\n      <th>122396</th>\n      <td>2973.9068</td>\n      <td>536096.0625</td>\n      <td>6793022.0</td>\n      <td>-2944.050537</td>\n      <td>-999.000000</td>\n      <td>-999.0</td>\n      <td>2.802693</td>\n      <td>2.972499</td>\n      <td>-999.0</td>\n      <td>100.418251</td>\n      <td>...</td>\n      <td>-999.0</td>\n      <td>-999.0</td>\n      <td>0.507392</td>\n      <td>-0.147377</td>\n      <td>-999.0</td>\n      <td>-10.921120</td>\n      <td>0.152</td>\n      <td>-999.0</td>\n      <td>0</td>\n      <td>16</td>\n    </tr>\n  </tbody>\n</table>\n<p>122397 rows × 30 columns</p>\n</div>"
     },
     "metadata": {},
     "execution_count": 11
    }
   ],
   "source": [
    "df_hidden = pd.read_csv('datasets/hidden.csv', sep=';')\n",
    "df_hidden\n"
   ]
  }
 ]
}