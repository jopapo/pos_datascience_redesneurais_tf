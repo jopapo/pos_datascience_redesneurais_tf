{
 "metadata": {
  "language_info": {
   "codemirror_mode": {
    "name": "ipython",
    "version": 3
   },
   "file_extension": ".py",
   "mimetype": "text/x-python",
   "name": "python",
   "nbconvert_exporter": "python",
   "pygments_lexer": "ipython3",
   "version": "3.7.3"
  },
  "orig_nbformat": 4,
  "kernelspec": {
   "name": "tf-redesneurais",
   "display_name": "Python 3.7.3 64-bit ('venv-jupyter': virtualenv)"
  },
  "interpreter": {
   "hash": "0600588c3b5f4418cbe7b5ebc6825b479f3bc010269d8b60d75058cdd010adfe"
  }
 },
 "nbformat": 4,
 "nbformat_minor": 2,
 "cells": [
  {
   "source": [
    "# Trabalho Final"
   ],
   "cell_type": "markdown",
   "metadata": {}
  },
  {
   "cell_type": "code",
   "execution_count": 1,
   "metadata": {},
   "outputs": [],
   "source": [
    "# Importação das libs necessárias\n",
    "import torch\n",
    "import torch.nn as nn\n",
    "import torch.nn.functional as F\n",
    "import numpy as np\n",
    "import matplotlib.pyplot as plt\n",
    "import pandas as pd\n",
    "from sklearn.model_selection import train_test_split\n"
   ]
  },
  {
   "source": [
    "## Carga e tratamento dos dados"
   ],
   "cell_type": "markdown",
   "metadata": {}
  },
  {
   "cell_type": "code",
   "execution_count": 2,
   "metadata": {},
   "outputs": [],
   "source": [
    "df_lithology = pd.read_csv('datasets/lithology.csv', sep=';')\n"
   ]
  },
  {
   "cell_type": "code",
   "execution_count": 3,
   "metadata": {},
   "outputs": [
    {
     "output_type": "execute_result",
     "data": {
      "text/plain": [
       "          DEPTH_MD         X_LOC      Y_LOC       Z_LOC       CALI   RSHA  \\\n",
       "0         494.5280  437641.96875  6470972.5 -469.501831  19.480835 -999.0   \n",
       "1         494.6800  437641.96875  6470972.5 -469.653809  19.468800 -999.0   \n",
       "2         494.8320  437641.96875  6470972.5 -469.805786  19.468800 -999.0   \n",
       "3         494.9840  437641.96875  6470972.5 -469.957794  19.459282 -999.0   \n",
       "4         495.1360  437641.96875  6470972.5 -470.109772  19.453100 -999.0   \n",
       "...            ...           ...        ...         ...        ...    ...   \n",
       "1170506  3169.3124  444920.37500  6421578.0 -999.000000   8.423170 -999.0   \n",
       "1170507  3169.4644  444920.37500  6421578.0 -999.000000   8.379244 -999.0   \n",
       "1170508  3169.6164  444920.37500  6421578.0 -999.000000   8.350248 -999.0   \n",
       "1170509  3169.7684  444920.37500  6421578.0 -999.000000   8.313779 -999.0   \n",
       "1170510  3169.9204  444920.37500  6421578.0 -999.000000   8.294910 -999.0   \n",
       "\n",
       "               RMED        RDEP      RHOB         GR  ...  Carbon_Index  \\\n",
       "0          1.611410    1.798681  1.884186  80.200851  ...     24.735691   \n",
       "1          1.618070    1.795641  1.889794  79.262886  ...     24.492376   \n",
       "2          1.626459    1.800733  1.896523  74.821999  ...     24.202299   \n",
       "3          1.621594    1.801517  1.891913  72.878922  ...     24.400797   \n",
       "4          1.602679    1.795299  1.880034  71.729141  ...     24.916765   \n",
       "...             ...         ...       ...        ...  ...           ...   \n",
       "1170506 -999.000000 -999.000000  2.527984  77.654900  ...      3.853715   \n",
       "1170507 -999.000000 -999.000000  2.537613  75.363937  ...      3.621808   \n",
       "1170508 -999.000000 -999.000000  2.491860  66.452843  ...      4.739676   \n",
       "1170509 -999.000000 -999.000000  2.447539  55.784817  ...      5.862411   \n",
       "1170510 -999.000000 -999.000000  2.430716  48.432129  ...      6.299290   \n",
       "\n",
       "         Normalized_RHOB  Normalized_GR  Delta_DTC  Delta_RHOB   Delta_GR  \\\n",
       "0               0.314847       0.150172  -0.000000   -0.000000  -0.000000   \n",
       "1               0.318528       0.148269   0.527710   -0.005608   0.937965   \n",
       "2               0.322946       0.139258   0.429855   -0.006729   4.440887   \n",
       "3               0.319919       0.135315   0.024185    0.004610   1.943077   \n",
       "4               0.312121       0.132982   0.021088    0.011879   1.149780   \n",
       "...                  ...            ...        ...         ...        ...   \n",
       "1170506         0.906928       0.188539   5.709644   -0.050081 -15.087708   \n",
       "1170507         0.924426       0.181304   1.034114   -0.009629   2.290962   \n",
       "1170508         0.841284       0.153161  -5.094579    0.045753   8.911095   \n",
       "1170509         0.760743       0.119469  -5.401767    0.044321  10.668026   \n",
       "1170510         0.730172       0.096247  -2.181371    0.016823   7.352688   \n",
       "\n",
       "         Delta_DEPTH_MD  Delta_Carbon_Index  GROUP_encoded  FORMATION_encoded  \n",
       "0                 0.000            0.000000              6                 68  \n",
       "1                 0.152           -0.243315              6                 68  \n",
       "2                 0.152           -0.290077              6                 68  \n",
       "3                 0.152            0.198498              6                 68  \n",
       "4                 0.152            0.515968              6                 68  \n",
       "...                 ...                 ...            ...                ...  \n",
       "1170506           0.152           -1.235199             11                  7  \n",
       "1170507           0.152           -0.231906             11                  7  \n",
       "1170508           0.152            1.117868             11                  7  \n",
       "1170509           0.152            1.122734             11                  7  \n",
       "1170510           0.152            0.436879             11                  7  \n",
       "\n",
       "[1170511 rows x 31 columns]"
      ],
      "text/html": "<div>\n<style scoped>\n    .dataframe tbody tr th:only-of-type {\n        vertical-align: middle;\n    }\n\n    .dataframe tbody tr th {\n        vertical-align: top;\n    }\n\n    .dataframe thead th {\n        text-align: right;\n    }\n</style>\n<table border=\"1\" class=\"dataframe\">\n  <thead>\n    <tr style=\"text-align: right;\">\n      <th></th>\n      <th>DEPTH_MD</th>\n      <th>X_LOC</th>\n      <th>Y_LOC</th>\n      <th>Z_LOC</th>\n      <th>CALI</th>\n      <th>RSHA</th>\n      <th>RMED</th>\n      <th>RDEP</th>\n      <th>RHOB</th>\n      <th>GR</th>\n      <th>...</th>\n      <th>Carbon_Index</th>\n      <th>Normalized_RHOB</th>\n      <th>Normalized_GR</th>\n      <th>Delta_DTC</th>\n      <th>Delta_RHOB</th>\n      <th>Delta_GR</th>\n      <th>Delta_DEPTH_MD</th>\n      <th>Delta_Carbon_Index</th>\n      <th>GROUP_encoded</th>\n      <th>FORMATION_encoded</th>\n    </tr>\n  </thead>\n  <tbody>\n    <tr>\n      <th>0</th>\n      <td>494.5280</td>\n      <td>437641.96875</td>\n      <td>6470972.5</td>\n      <td>-469.501831</td>\n      <td>19.480835</td>\n      <td>-999.0</td>\n      <td>1.611410</td>\n      <td>1.798681</td>\n      <td>1.884186</td>\n      <td>80.200851</td>\n      <td>...</td>\n      <td>24.735691</td>\n      <td>0.314847</td>\n      <td>0.150172</td>\n      <td>-0.000000</td>\n      <td>-0.000000</td>\n      <td>-0.000000</td>\n      <td>0.000</td>\n      <td>0.000000</td>\n      <td>6</td>\n      <td>68</td>\n    </tr>\n    <tr>\n      <th>1</th>\n      <td>494.6800</td>\n      <td>437641.96875</td>\n      <td>6470972.5</td>\n      <td>-469.653809</td>\n      <td>19.468800</td>\n      <td>-999.0</td>\n      <td>1.618070</td>\n      <td>1.795641</td>\n      <td>1.889794</td>\n      <td>79.262886</td>\n      <td>...</td>\n      <td>24.492376</td>\n      <td>0.318528</td>\n      <td>0.148269</td>\n      <td>0.527710</td>\n      <td>-0.005608</td>\n      <td>0.937965</td>\n      <td>0.152</td>\n      <td>-0.243315</td>\n      <td>6</td>\n      <td>68</td>\n    </tr>\n    <tr>\n      <th>2</th>\n      <td>494.8320</td>\n      <td>437641.96875</td>\n      <td>6470972.5</td>\n      <td>-469.805786</td>\n      <td>19.468800</td>\n      <td>-999.0</td>\n      <td>1.626459</td>\n      <td>1.800733</td>\n      <td>1.896523</td>\n      <td>74.821999</td>\n      <td>...</td>\n      <td>24.202299</td>\n      <td>0.322946</td>\n      <td>0.139258</td>\n      <td>0.429855</td>\n      <td>-0.006729</td>\n      <td>4.440887</td>\n      <td>0.152</td>\n      <td>-0.290077</td>\n      <td>6</td>\n      <td>68</td>\n    </tr>\n    <tr>\n      <th>3</th>\n      <td>494.9840</td>\n      <td>437641.96875</td>\n      <td>6470972.5</td>\n      <td>-469.957794</td>\n      <td>19.459282</td>\n      <td>-999.0</td>\n      <td>1.621594</td>\n      <td>1.801517</td>\n      <td>1.891913</td>\n      <td>72.878922</td>\n      <td>...</td>\n      <td>24.400797</td>\n      <td>0.319919</td>\n      <td>0.135315</td>\n      <td>0.024185</td>\n      <td>0.004610</td>\n      <td>1.943077</td>\n      <td>0.152</td>\n      <td>0.198498</td>\n      <td>6</td>\n      <td>68</td>\n    </tr>\n    <tr>\n      <th>4</th>\n      <td>495.1360</td>\n      <td>437641.96875</td>\n      <td>6470972.5</td>\n      <td>-470.109772</td>\n      <td>19.453100</td>\n      <td>-999.0</td>\n      <td>1.602679</td>\n      <td>1.795299</td>\n      <td>1.880034</td>\n      <td>71.729141</td>\n      <td>...</td>\n      <td>24.916765</td>\n      <td>0.312121</td>\n      <td>0.132982</td>\n      <td>0.021088</td>\n      <td>0.011879</td>\n      <td>1.149780</td>\n      <td>0.152</td>\n      <td>0.515968</td>\n      <td>6</td>\n      <td>68</td>\n    </tr>\n    <tr>\n      <th>...</th>\n      <td>...</td>\n      <td>...</td>\n      <td>...</td>\n      <td>...</td>\n      <td>...</td>\n      <td>...</td>\n      <td>...</td>\n      <td>...</td>\n      <td>...</td>\n      <td>...</td>\n      <td>...</td>\n      <td>...</td>\n      <td>...</td>\n      <td>...</td>\n      <td>...</td>\n      <td>...</td>\n      <td>...</td>\n      <td>...</td>\n      <td>...</td>\n      <td>...</td>\n      <td>...</td>\n    </tr>\n    <tr>\n      <th>1170506</th>\n      <td>3169.3124</td>\n      <td>444920.37500</td>\n      <td>6421578.0</td>\n      <td>-999.000000</td>\n      <td>8.423170</td>\n      <td>-999.0</td>\n      <td>-999.000000</td>\n      <td>-999.000000</td>\n      <td>2.527984</td>\n      <td>77.654900</td>\n      <td>...</td>\n      <td>3.853715</td>\n      <td>0.906928</td>\n      <td>0.188539</td>\n      <td>5.709644</td>\n      <td>-0.050081</td>\n      <td>-15.087708</td>\n      <td>0.152</td>\n      <td>-1.235199</td>\n      <td>11</td>\n      <td>7</td>\n    </tr>\n    <tr>\n      <th>1170507</th>\n      <td>3169.4644</td>\n      <td>444920.37500</td>\n      <td>6421578.0</td>\n      <td>-999.000000</td>\n      <td>8.379244</td>\n      <td>-999.0</td>\n      <td>-999.000000</td>\n      <td>-999.000000</td>\n      <td>2.537613</td>\n      <td>75.363937</td>\n      <td>...</td>\n      <td>3.621808</td>\n      <td>0.924426</td>\n      <td>0.181304</td>\n      <td>1.034114</td>\n      <td>-0.009629</td>\n      <td>2.290962</td>\n      <td>0.152</td>\n      <td>-0.231906</td>\n      <td>11</td>\n      <td>7</td>\n    </tr>\n    <tr>\n      <th>1170508</th>\n      <td>3169.6164</td>\n      <td>444920.37500</td>\n      <td>6421578.0</td>\n      <td>-999.000000</td>\n      <td>8.350248</td>\n      <td>-999.0</td>\n      <td>-999.000000</td>\n      <td>-999.000000</td>\n      <td>2.491860</td>\n      <td>66.452843</td>\n      <td>...</td>\n      <td>4.739676</td>\n      <td>0.841284</td>\n      <td>0.153161</td>\n      <td>-5.094579</td>\n      <td>0.045753</td>\n      <td>8.911095</td>\n      <td>0.152</td>\n      <td>1.117868</td>\n      <td>11</td>\n      <td>7</td>\n    </tr>\n    <tr>\n      <th>1170509</th>\n      <td>3169.7684</td>\n      <td>444920.37500</td>\n      <td>6421578.0</td>\n      <td>-999.000000</td>\n      <td>8.313779</td>\n      <td>-999.0</td>\n      <td>-999.000000</td>\n      <td>-999.000000</td>\n      <td>2.447539</td>\n      <td>55.784817</td>\n      <td>...</td>\n      <td>5.862411</td>\n      <td>0.760743</td>\n      <td>0.119469</td>\n      <td>-5.401767</td>\n      <td>0.044321</td>\n      <td>10.668026</td>\n      <td>0.152</td>\n      <td>1.122734</td>\n      <td>11</td>\n      <td>7</td>\n    </tr>\n    <tr>\n      <th>1170510</th>\n      <td>3169.9204</td>\n      <td>444920.37500</td>\n      <td>6421578.0</td>\n      <td>-999.000000</td>\n      <td>8.294910</td>\n      <td>-999.0</td>\n      <td>-999.000000</td>\n      <td>-999.000000</td>\n      <td>2.430716</td>\n      <td>48.432129</td>\n      <td>...</td>\n      <td>6.299290</td>\n      <td>0.730172</td>\n      <td>0.096247</td>\n      <td>-2.181371</td>\n      <td>0.016823</td>\n      <td>7.352688</td>\n      <td>0.152</td>\n      <td>0.436879</td>\n      <td>11</td>\n      <td>7</td>\n    </tr>\n  </tbody>\n</table>\n<p>1170511 rows × 31 columns</p>\n</div>"
     },
     "metadata": {},
     "execution_count": 3
    }
   ],
   "source": [
    "df_lithology"
   ]
  },
  {
   "cell_type": "code",
   "execution_count": 4,
   "metadata": {},
   "outputs": [],
   "source": [
    "# Lista de colunas\n",
    "df_lithology.columns\n",
    "\n",
    "category_columns = ['DEPTH_MD', 'X_LOC', 'Y_LOC', 'Z_LOC', 'CALI', 'RSHA', 'RMED', 'RDEP',\n",
    "       'RHOB', 'GR', 'NPHI', 'PEF', 'DTC', 'SP', 'BS', 'ROP', 'DCAL', 'DRHO',\n",
    "       'MUDWEIGHT', 'RMIC', 'Carbon_Index',\n",
    "       'Normalized_RHOB', 'Normalized_GR', 'Delta_DTC', 'Delta_RHOB',\n",
    "       'Delta_GR', 'Delta_DEPTH_MD', 'Delta_Carbon_Index', 'GROUP_encoded',\n",
    "       'FORMATION_encoded']"
   ]
  },
  {
   "cell_type": "code",
   "execution_count": 5,
   "metadata": {},
   "outputs": [
    {
     "output_type": "execute_result",
     "data": {
      "text/plain": [
       "65000.0    720803\n",
       "30000.0    168937\n",
       "65030.0    150455\n",
       "70000.0     56320\n",
       "80000.0     33329\n",
       "99000.0     15245\n",
       "70032.0     10513\n",
       "88000.0      8213\n",
       "90000.0      3820\n",
       "74000.0      1688\n",
       "86000.0      1085\n",
       "93000.0       103\n",
       "Name: FORCE_2020_LITHOFACIES_LITHOLOGY, dtype: int64"
      ]
     },
     "metadata": {},
     "execution_count": 5
    }
   ],
   "source": [
    "# Conferindo as opções\n",
    "df_lithology['FORCE_2020_LITHOFACIES_LITHOLOGY'].value_counts()"
   ]
  },
  {
   "cell_type": "code",
   "execution_count": 6,
   "metadata": {},
   "outputs": [],
   "source": [
    "lithofacies = {\n",
    "    30000: 'Sandstone',\n",
    "    65030: 'Sandstone/Shale',\n",
    "    65000: 'Shale',\n",
    "    80000: 'Marl',\n",
    "    74000: 'Dolomite',\n",
    "    70000: 'Limestone',\n",
    "    70032: 'Chalk',\n",
    "    88000: 'Halite',\n",
    "    86000: 'Anhydrite',\n",
    "    99000: 'Tuff',\n",
    "    90000: 'Coal',\n",
    "    93000: 'Basement'\n",
    "}\n",
    "lithofacies\n",
    "\n",
    "lithofacies_keys = list(lithofacies.keys())\n",
    "\n",
    "df_lithology['FORCE_2020_LITHOFACIES_LITHOLOGY_IDX'] = df_lithology['FORCE_2020_LITHOFACIES_LITHOLOGY'].apply(lambda x: lithofacies_keys.index(x))\n"
   ]
  },
  {
   "cell_type": "code",
   "execution_count": 7,
   "metadata": {},
   "outputs": [],
   "source": [
    "# Usando exemplo de https://towardsdatascience.com/deep-learning-on-dataframes-with-pytorch-66b21be54ef6\n",
    "#                   https://medium.com/swlh/my-first-work-with-pytorch-eea3bc82068\n",
    "\n",
    "# Random state fixo para reproduzir o mesmo cenário\n",
    "random_state = 42\n",
    "\n",
    "X = df_lithology[category_columns].values\n",
    "y = df_lithology['FORCE_2020_LITHOFACIES_LITHOLOGY_IDX'].values\n",
    "\n",
    "# Quebra o dataset em teste e treino\n",
    "X_train, X_test, y_train, y_test = train_test_split(X, y, test_size=0.2, random_state=random_state)\n",
    "\n",
    "# Random state ensures that the splits that you generate are reproducible. \n",
    "# Scikit-learn uses random permutations to generate the splits. \n",
    "# The random state that you provide is used as a seed to the random number generator.\n",
    "# This ensures that the random numbers are generated in the same order.\n",
    "X_train = torch.FloatTensor(X_train)\n",
    "X_test = torch.FloatTensor(X_test)\n",
    "y_train = torch.LongTensor(y_train)\n",
    "y_test = torch.LongTensor(y_test)\n"
   ]
  },
  {
   "cell_type": "code",
   "execution_count": 50,
   "metadata": {},
   "outputs": [],
   "source": [
    "# Criando nossa rede neural\n",
    "\n",
    "class ANN(nn.Module):\n",
    "    def __init__(self):\n",
    "        super().__init__()\n",
    "        self.fc1 = nn.Linear(in_features=len(category_columns), out_features=20)\n",
    "        self.fc2 = nn.Linear(in_features=20, out_features=16)\n",
    "        self.output = nn.Linear(in_features=16, out_features=len(lithofacies))\n",
    " \n",
    "    def forward(self, x):\n",
    "        x = F.relu(self.fc1(x))\n",
    "        x = F.relu(self.fc2(x))\n",
    "        x = self.output(x)\n",
    "        return x\n"
   ]
  },
  {
   "cell_type": "code",
   "execution_count": 20,
   "metadata": {},
   "outputs": [
    {
     "output_type": "stream",
     "name": "stdout",
     "text": [
      "Epoch: 0 Loss: 357382.8125\n",
      "Epoch: 10 Loss: 23658.0390625\n",
      "Epoch: 20 Loss: 5409.20263671875\n",
      "Epoch: 30 Loss: 2.4791324138641357\n",
      "Epoch: 40 Loss: 2.4219002723693848\n",
      "Epoch: 50 Loss: 2.349071502685547\n",
      "Epoch: 60 Loss: 2.2726645469665527\n",
      "Epoch: 70 Loss: 2.1969687938690186\n",
      "Epoch: 80 Loss: 2.123579502105713\n",
      "Epoch: 90 Loss: 2.053243637084961\n",
      "Wall time: 1min 21s\n"
     ]
    }
   ],
   "source": [
    "%%time\n",
    "\n",
    "# Treinando\n",
    "\n",
    "model = ANN()\n",
    "#model\n",
    "\n",
    "# ?\n",
    "criterion = nn.CrossEntropyLoss()\n",
    "\n",
    "# Otimizador Adam\n",
    "optimizer = torch.optim.Adam(model.parameters(), lr=0.01)\n",
    "\n",
    "# Otimizador SGD\n",
    "#learning_rate = 0.05\n",
    "#optimizer = torch.optim.SGD(model.parameters(), lr=learning_rate)\n",
    "\n",
    "epochs = 100\n",
    "loss_arr = []\n",
    "\n",
    "for i in range(epochs):\n",
    "    y_hat = model.forward(X_train)\n",
    "    loss = criterion(y_hat, y_train)\n",
    "    loss_arr.append(float(loss))\n",
    "    \n",
    " \n",
    "    if i % 10 == 0:\n",
    "        print(f'Epoch: {i} Loss: {loss}')\n",
    " \n",
    "    optimizer.zero_grad()\n",
    "    loss.backward()\n",
    "    optimizer.step()"
   ]
  },
  {
   "cell_type": "code",
   "execution_count": 21,
   "metadata": {},
   "outputs": [
    {
     "output_type": "execute_result",
     "data": {
      "text/plain": [
       "[<matplotlib.lines.Line2D at 0x284c1d8ffd0>]"
      ]
     },
     "metadata": {},
     "execution_count": 21
    },
    {
     "output_type": "display_data",
     "data": {
      "text/plain": "<Figure size 432x288 with 1 Axes>",
      "image/svg+xml": "<?xml version=\"1.0\" encoding=\"utf-8\" standalone=\"no\"?>\r\n<!DOCTYPE svg PUBLIC \"-//W3C//DTD SVG 1.1//EN\"\r\n  \"http://www.w3.org/Graphics/SVG/1.1/DTD/svg11.dtd\">\r\n<svg height=\"277.314375pt\" version=\"1.1\" viewBox=\"0 0 394.375 277.314375\" width=\"394.375pt\" xmlns=\"http://www.w3.org/2000/svg\" xmlns:xlink=\"http://www.w3.org/1999/xlink\">\r\n <metadata>\r\n  <rdf:RDF xmlns:cc=\"http://creativecommons.org/ns#\" xmlns:dc=\"http://purl.org/dc/elements/1.1/\" xmlns:rdf=\"http://www.w3.org/1999/02/22-rdf-syntax-ns#\">\r\n   <cc:Work>\r\n    <dc:type rdf:resource=\"http://purl.org/dc/dcmitype/StillImage\"/>\r\n    <dc:date>2021-06-24T01:16:01.378135</dc:date>\r\n    <dc:format>image/svg+xml</dc:format>\r\n    <dc:creator>\r\n     <cc:Agent>\r\n      <dc:title>Matplotlib v3.4.2, https://matplotlib.org/</dc:title>\r\n     </cc:Agent>\r\n    </dc:creator>\r\n   </cc:Work>\r\n  </rdf:RDF>\r\n </metadata>\r\n <defs>\r\n  <style type=\"text/css\">*{stroke-linecap:butt;stroke-linejoin:round;}</style>\r\n </defs>\r\n <g id=\"figure_1\">\r\n  <g id=\"patch_1\">\r\n   <path d=\"M 0 277.314375 \r\nL 394.375 277.314375 \r\nL 394.375 0 \r\nL 0 0 \r\nz\r\n\" style=\"fill:none;\"/>\r\n  </g>\r\n  <g id=\"axes_1\">\r\n   <g id=\"patch_2\">\r\n    <path d=\"M 52.375 239.758125 \r\nL 387.175 239.758125 \r\nL 387.175 22.318125 \r\nL 52.375 22.318125 \r\nz\r\n\" style=\"fill:#ffffff;\"/>\r\n   </g>\r\n   <g id=\"matplotlib.axis_1\">\r\n    <g id=\"xtick_1\">\r\n     <g id=\"line2d_1\">\r\n      <defs>\r\n       <path d=\"M 0 0 \r\nL 0 3.5 \r\n\" id=\"m69161eb9bb\" style=\"stroke:#000000;stroke-width:0.8;\"/>\r\n      </defs>\r\n      <g>\r\n       <use style=\"stroke:#000000;stroke-width:0.8;\" x=\"67.593182\" xlink:href=\"#m69161eb9bb\" y=\"239.758125\"/>\r\n      </g>\r\n     </g>\r\n     <g id=\"text_1\">\r\n      <!-- 0 -->\r\n      <g transform=\"translate(64.411932 254.356562)scale(0.1 -0.1)\">\r\n       <defs>\r\n        <path d=\"M 2034 4250 \r\nQ 1547 4250 1301 3770 \r\nQ 1056 3291 1056 2328 \r\nQ 1056 1369 1301 889 \r\nQ 1547 409 2034 409 \r\nQ 2525 409 2770 889 \r\nQ 3016 1369 3016 2328 \r\nQ 3016 3291 2770 3770 \r\nQ 2525 4250 2034 4250 \r\nz\r\nM 2034 4750 \r\nQ 2819 4750 3233 4129 \r\nQ 3647 3509 3647 2328 \r\nQ 3647 1150 3233 529 \r\nQ 2819 -91 2034 -91 \r\nQ 1250 -91 836 529 \r\nQ 422 1150 422 2328 \r\nQ 422 3509 836 4129 \r\nQ 1250 4750 2034 4750 \r\nz\r\n\" id=\"DejaVuSans-30\" transform=\"scale(0.015625)\"/>\r\n       </defs>\r\n       <use xlink:href=\"#DejaVuSans-30\"/>\r\n      </g>\r\n     </g>\r\n    </g>\r\n    <g id=\"xtick_2\">\r\n     <g id=\"line2d_2\">\r\n      <g>\r\n       <use style=\"stroke:#000000;stroke-width:0.8;\" x=\"129.080785\" xlink:href=\"#m69161eb9bb\" y=\"239.758125\"/>\r\n      </g>\r\n     </g>\r\n     <g id=\"text_2\">\r\n      <!-- 20 -->\r\n      <g transform=\"translate(122.718285 254.356562)scale(0.1 -0.1)\">\r\n       <defs>\r\n        <path d=\"M 1228 531 \r\nL 3431 531 \r\nL 3431 0 \r\nL 469 0 \r\nL 469 531 \r\nQ 828 903 1448 1529 \r\nQ 2069 2156 2228 2338 \r\nQ 2531 2678 2651 2914 \r\nQ 2772 3150 2772 3378 \r\nQ 2772 3750 2511 3984 \r\nQ 2250 4219 1831 4219 \r\nQ 1534 4219 1204 4116 \r\nQ 875 4013 500 3803 \r\nL 500 4441 \r\nQ 881 4594 1212 4672 \r\nQ 1544 4750 1819 4750 \r\nQ 2544 4750 2975 4387 \r\nQ 3406 4025 3406 3419 \r\nQ 3406 3131 3298 2873 \r\nQ 3191 2616 2906 2266 \r\nQ 2828 2175 2409 1742 \r\nQ 1991 1309 1228 531 \r\nz\r\n\" id=\"DejaVuSans-32\" transform=\"scale(0.015625)\"/>\r\n       </defs>\r\n       <use xlink:href=\"#DejaVuSans-32\"/>\r\n       <use x=\"63.623047\" xlink:href=\"#DejaVuSans-30\"/>\r\n      </g>\r\n     </g>\r\n    </g>\r\n    <g id=\"xtick_3\">\r\n     <g id=\"line2d_3\">\r\n      <g>\r\n       <use style=\"stroke:#000000;stroke-width:0.8;\" x=\"190.568388\" xlink:href=\"#m69161eb9bb\" y=\"239.758125\"/>\r\n      </g>\r\n     </g>\r\n     <g id=\"text_3\">\r\n      <!-- 40 -->\r\n      <g transform=\"translate(184.205888 254.356562)scale(0.1 -0.1)\">\r\n       <defs>\r\n        <path d=\"M 2419 4116 \r\nL 825 1625 \r\nL 2419 1625 \r\nL 2419 4116 \r\nz\r\nM 2253 4666 \r\nL 3047 4666 \r\nL 3047 1625 \r\nL 3713 1625 \r\nL 3713 1100 \r\nL 3047 1100 \r\nL 3047 0 \r\nL 2419 0 \r\nL 2419 1100 \r\nL 313 1100 \r\nL 313 1709 \r\nL 2253 4666 \r\nz\r\n\" id=\"DejaVuSans-34\" transform=\"scale(0.015625)\"/>\r\n       </defs>\r\n       <use xlink:href=\"#DejaVuSans-34\"/>\r\n       <use x=\"63.623047\" xlink:href=\"#DejaVuSans-30\"/>\r\n      </g>\r\n     </g>\r\n    </g>\r\n    <g id=\"xtick_4\">\r\n     <g id=\"line2d_4\">\r\n      <g>\r\n       <use style=\"stroke:#000000;stroke-width:0.8;\" x=\"252.055992\" xlink:href=\"#m69161eb9bb\" y=\"239.758125\"/>\r\n      </g>\r\n     </g>\r\n     <g id=\"text_4\">\r\n      <!-- 60 -->\r\n      <g transform=\"translate(245.693492 254.356562)scale(0.1 -0.1)\">\r\n       <defs>\r\n        <path d=\"M 2113 2584 \r\nQ 1688 2584 1439 2293 \r\nQ 1191 2003 1191 1497 \r\nQ 1191 994 1439 701 \r\nQ 1688 409 2113 409 \r\nQ 2538 409 2786 701 \r\nQ 3034 994 3034 1497 \r\nQ 3034 2003 2786 2293 \r\nQ 2538 2584 2113 2584 \r\nz\r\nM 3366 4563 \r\nL 3366 3988 \r\nQ 3128 4100 2886 4159 \r\nQ 2644 4219 2406 4219 \r\nQ 1781 4219 1451 3797 \r\nQ 1122 3375 1075 2522 \r\nQ 1259 2794 1537 2939 \r\nQ 1816 3084 2150 3084 \r\nQ 2853 3084 3261 2657 \r\nQ 3669 2231 3669 1497 \r\nQ 3669 778 3244 343 \r\nQ 2819 -91 2113 -91 \r\nQ 1303 -91 875 529 \r\nQ 447 1150 447 2328 \r\nQ 447 3434 972 4092 \r\nQ 1497 4750 2381 4750 \r\nQ 2619 4750 2861 4703 \r\nQ 3103 4656 3366 4563 \r\nz\r\n\" id=\"DejaVuSans-36\" transform=\"scale(0.015625)\"/>\r\n       </defs>\r\n       <use xlink:href=\"#DejaVuSans-36\"/>\r\n       <use x=\"63.623047\" xlink:href=\"#DejaVuSans-30\"/>\r\n      </g>\r\n     </g>\r\n    </g>\r\n    <g id=\"xtick_5\">\r\n     <g id=\"line2d_5\">\r\n      <g>\r\n       <use style=\"stroke:#000000;stroke-width:0.8;\" x=\"313.543595\" xlink:href=\"#m69161eb9bb\" y=\"239.758125\"/>\r\n      </g>\r\n     </g>\r\n     <g id=\"text_5\">\r\n      <!-- 80 -->\r\n      <g transform=\"translate(307.181095 254.356562)scale(0.1 -0.1)\">\r\n       <defs>\r\n        <path d=\"M 2034 2216 \r\nQ 1584 2216 1326 1975 \r\nQ 1069 1734 1069 1313 \r\nQ 1069 891 1326 650 \r\nQ 1584 409 2034 409 \r\nQ 2484 409 2743 651 \r\nQ 3003 894 3003 1313 \r\nQ 3003 1734 2745 1975 \r\nQ 2488 2216 2034 2216 \r\nz\r\nM 1403 2484 \r\nQ 997 2584 770 2862 \r\nQ 544 3141 544 3541 \r\nQ 544 4100 942 4425 \r\nQ 1341 4750 2034 4750 \r\nQ 2731 4750 3128 4425 \r\nQ 3525 4100 3525 3541 \r\nQ 3525 3141 3298 2862 \r\nQ 3072 2584 2669 2484 \r\nQ 3125 2378 3379 2068 \r\nQ 3634 1759 3634 1313 \r\nQ 3634 634 3220 271 \r\nQ 2806 -91 2034 -91 \r\nQ 1263 -91 848 271 \r\nQ 434 634 434 1313 \r\nQ 434 1759 690 2068 \r\nQ 947 2378 1403 2484 \r\nz\r\nM 1172 3481 \r\nQ 1172 3119 1398 2916 \r\nQ 1625 2713 2034 2713 \r\nQ 2441 2713 2670 2916 \r\nQ 2900 3119 2900 3481 \r\nQ 2900 3844 2670 4047 \r\nQ 2441 4250 2034 4250 \r\nQ 1625 4250 1398 4047 \r\nQ 1172 3844 1172 3481 \r\nz\r\n\" id=\"DejaVuSans-38\" transform=\"scale(0.015625)\"/>\r\n       </defs>\r\n       <use xlink:href=\"#DejaVuSans-38\"/>\r\n       <use x=\"63.623047\" xlink:href=\"#DejaVuSans-30\"/>\r\n      </g>\r\n     </g>\r\n    </g>\r\n    <g id=\"xtick_6\">\r\n     <g id=\"line2d_6\">\r\n      <g>\r\n       <use style=\"stroke:#000000;stroke-width:0.8;\" x=\"375.031198\" xlink:href=\"#m69161eb9bb\" y=\"239.758125\"/>\r\n      </g>\r\n     </g>\r\n     <g id=\"text_6\">\r\n      <!-- 100 -->\r\n      <g transform=\"translate(365.487448 254.356562)scale(0.1 -0.1)\">\r\n       <defs>\r\n        <path d=\"M 794 531 \r\nL 1825 531 \r\nL 1825 4091 \r\nL 703 3866 \r\nL 703 4441 \r\nL 1819 4666 \r\nL 2450 4666 \r\nL 2450 531 \r\nL 3481 531 \r\nL 3481 0 \r\nL 794 0 \r\nL 794 531 \r\nz\r\n\" id=\"DejaVuSans-31\" transform=\"scale(0.015625)\"/>\r\n       </defs>\r\n       <use xlink:href=\"#DejaVuSans-31\"/>\r\n       <use x=\"63.623047\" xlink:href=\"#DejaVuSans-30\"/>\r\n       <use x=\"127.246094\" xlink:href=\"#DejaVuSans-30\"/>\r\n      </g>\r\n     </g>\r\n    </g>\r\n    <g id=\"text_7\">\r\n     <!-- Epoch -->\r\n     <g transform=\"translate(204.464063 268.034687)scale(0.1 -0.1)\">\r\n      <defs>\r\n       <path d=\"M 628 4666 \r\nL 3578 4666 \r\nL 3578 4134 \r\nL 1259 4134 \r\nL 1259 2753 \r\nL 3481 2753 \r\nL 3481 2222 \r\nL 1259 2222 \r\nL 1259 531 \r\nL 3634 531 \r\nL 3634 0 \r\nL 628 0 \r\nL 628 4666 \r\nz\r\n\" id=\"DejaVuSans-45\" transform=\"scale(0.015625)\"/>\r\n       <path d=\"M 1159 525 \r\nL 1159 -1331 \r\nL 581 -1331 \r\nL 581 3500 \r\nL 1159 3500 \r\nL 1159 2969 \r\nQ 1341 3281 1617 3432 \r\nQ 1894 3584 2278 3584 \r\nQ 2916 3584 3314 3078 \r\nQ 3713 2572 3713 1747 \r\nQ 3713 922 3314 415 \r\nQ 2916 -91 2278 -91 \r\nQ 1894 -91 1617 61 \r\nQ 1341 213 1159 525 \r\nz\r\nM 3116 1747 \r\nQ 3116 2381 2855 2742 \r\nQ 2594 3103 2138 3103 \r\nQ 1681 3103 1420 2742 \r\nQ 1159 2381 1159 1747 \r\nQ 1159 1113 1420 752 \r\nQ 1681 391 2138 391 \r\nQ 2594 391 2855 752 \r\nQ 3116 1113 3116 1747 \r\nz\r\n\" id=\"DejaVuSans-70\" transform=\"scale(0.015625)\"/>\r\n       <path d=\"M 1959 3097 \r\nQ 1497 3097 1228 2736 \r\nQ 959 2375 959 1747 \r\nQ 959 1119 1226 758 \r\nQ 1494 397 1959 397 \r\nQ 2419 397 2687 759 \r\nQ 2956 1122 2956 1747 \r\nQ 2956 2369 2687 2733 \r\nQ 2419 3097 1959 3097 \r\nz\r\nM 1959 3584 \r\nQ 2709 3584 3137 3096 \r\nQ 3566 2609 3566 1747 \r\nQ 3566 888 3137 398 \r\nQ 2709 -91 1959 -91 \r\nQ 1206 -91 779 398 \r\nQ 353 888 353 1747 \r\nQ 353 2609 779 3096 \r\nQ 1206 3584 1959 3584 \r\nz\r\n\" id=\"DejaVuSans-6f\" transform=\"scale(0.015625)\"/>\r\n       <path d=\"M 3122 3366 \r\nL 3122 2828 \r\nQ 2878 2963 2633 3030 \r\nQ 2388 3097 2138 3097 \r\nQ 1578 3097 1268 2742 \r\nQ 959 2388 959 1747 \r\nQ 959 1106 1268 751 \r\nQ 1578 397 2138 397 \r\nQ 2388 397 2633 464 \r\nQ 2878 531 3122 666 \r\nL 3122 134 \r\nQ 2881 22 2623 -34 \r\nQ 2366 -91 2075 -91 \r\nQ 1284 -91 818 406 \r\nQ 353 903 353 1747 \r\nQ 353 2603 823 3093 \r\nQ 1294 3584 2113 3584 \r\nQ 2378 3584 2631 3529 \r\nQ 2884 3475 3122 3366 \r\nz\r\n\" id=\"DejaVuSans-63\" transform=\"scale(0.015625)\"/>\r\n       <path d=\"M 3513 2113 \r\nL 3513 0 \r\nL 2938 0 \r\nL 2938 2094 \r\nQ 2938 2591 2744 2837 \r\nQ 2550 3084 2163 3084 \r\nQ 1697 3084 1428 2787 \r\nQ 1159 2491 1159 1978 \r\nL 1159 0 \r\nL 581 0 \r\nL 581 4863 \r\nL 1159 4863 \r\nL 1159 2956 \r\nQ 1366 3272 1645 3428 \r\nQ 1925 3584 2291 3584 \r\nQ 2894 3584 3203 3211 \r\nQ 3513 2838 3513 2113 \r\nz\r\n\" id=\"DejaVuSans-68\" transform=\"scale(0.015625)\"/>\r\n      </defs>\r\n      <use xlink:href=\"#DejaVuSans-45\"/>\r\n      <use x=\"63.183594\" xlink:href=\"#DejaVuSans-70\"/>\r\n      <use x=\"126.660156\" xlink:href=\"#DejaVuSans-6f\"/>\r\n      <use x=\"187.841797\" xlink:href=\"#DejaVuSans-63\"/>\r\n      <use x=\"242.822266\" xlink:href=\"#DejaVuSans-68\"/>\r\n     </g>\r\n    </g>\r\n   </g>\r\n   <g id=\"matplotlib.axis_2\">\r\n    <g id=\"ytick_1\">\r\n     <g id=\"line2d_7\">\r\n      <defs>\r\n       <path d=\"M 0 0 \r\nL -3.5 0 \r\n\" id=\"m69ba0928f7\" style=\"stroke:#000000;stroke-width:0.8;\"/>\r\n      </defs>\r\n      <g>\r\n       <use style=\"stroke:#000000;stroke-width:0.8;\" x=\"52.375\" xlink:href=\"#m69ba0928f7\" y=\"229.875591\"/>\r\n      </g>\r\n     </g>\r\n     <g id=\"text_8\">\r\n      <!-- 0 -->\r\n      <g transform=\"translate(39.0125 233.67481)scale(0.1 -0.1)\">\r\n       <use xlink:href=\"#DejaVuSans-30\"/>\r\n      </g>\r\n     </g>\r\n    </g>\r\n    <g id=\"ytick_2\">\r\n     <g id=\"line2d_8\">\r\n      <g>\r\n       <use style=\"stroke:#000000;stroke-width:0.8;\" x=\"52.375\" xlink:href=\"#m69ba0928f7\" y=\"202.219836\"/>\r\n      </g>\r\n     </g>\r\n     <g id=\"text_9\">\r\n      <!-- 50000 -->\r\n      <g transform=\"translate(13.5625 206.019055)scale(0.1 -0.1)\">\r\n       <defs>\r\n        <path d=\"M 691 4666 \r\nL 3169 4666 \r\nL 3169 4134 \r\nL 1269 4134 \r\nL 1269 2991 \r\nQ 1406 3038 1543 3061 \r\nQ 1681 3084 1819 3084 \r\nQ 2600 3084 3056 2656 \r\nQ 3513 2228 3513 1497 \r\nQ 3513 744 3044 326 \r\nQ 2575 -91 1722 -91 \r\nQ 1428 -91 1123 -41 \r\nQ 819 9 494 109 \r\nL 494 744 \r\nQ 775 591 1075 516 \r\nQ 1375 441 1709 441 \r\nQ 2250 441 2565 725 \r\nQ 2881 1009 2881 1497 \r\nQ 2881 1984 2565 2268 \r\nQ 2250 2553 1709 2553 \r\nQ 1456 2553 1204 2497 \r\nQ 953 2441 691 2322 \r\nL 691 4666 \r\nz\r\n\" id=\"DejaVuSans-35\" transform=\"scale(0.015625)\"/>\r\n       </defs>\r\n       <use xlink:href=\"#DejaVuSans-35\"/>\r\n       <use x=\"63.623047\" xlink:href=\"#DejaVuSans-30\"/>\r\n       <use x=\"127.246094\" xlink:href=\"#DejaVuSans-30\"/>\r\n       <use x=\"190.869141\" xlink:href=\"#DejaVuSans-30\"/>\r\n       <use x=\"254.492188\" xlink:href=\"#DejaVuSans-30\"/>\r\n      </g>\r\n     </g>\r\n    </g>\r\n    <g id=\"ytick_3\">\r\n     <g id=\"line2d_9\">\r\n      <g>\r\n       <use style=\"stroke:#000000;stroke-width:0.8;\" x=\"52.375\" xlink:href=\"#m69ba0928f7\" y=\"174.564081\"/>\r\n      </g>\r\n     </g>\r\n     <g id=\"text_10\">\r\n      <!-- 100000 -->\r\n      <g transform=\"translate(7.2 178.3633)scale(0.1 -0.1)\">\r\n       <use xlink:href=\"#DejaVuSans-31\"/>\r\n       <use x=\"63.623047\" xlink:href=\"#DejaVuSans-30\"/>\r\n       <use x=\"127.246094\" xlink:href=\"#DejaVuSans-30\"/>\r\n       <use x=\"190.869141\" xlink:href=\"#DejaVuSans-30\"/>\r\n       <use x=\"254.492188\" xlink:href=\"#DejaVuSans-30\"/>\r\n       <use x=\"318.115234\" xlink:href=\"#DejaVuSans-30\"/>\r\n      </g>\r\n     </g>\r\n    </g>\r\n    <g id=\"ytick_4\">\r\n     <g id=\"line2d_10\">\r\n      <g>\r\n       <use style=\"stroke:#000000;stroke-width:0.8;\" x=\"52.375\" xlink:href=\"#m69ba0928f7\" y=\"146.908326\"/>\r\n      </g>\r\n     </g>\r\n     <g id=\"text_11\">\r\n      <!-- 150000 -->\r\n      <g transform=\"translate(7.2 150.707545)scale(0.1 -0.1)\">\r\n       <use xlink:href=\"#DejaVuSans-31\"/>\r\n       <use x=\"63.623047\" xlink:href=\"#DejaVuSans-35\"/>\r\n       <use x=\"127.246094\" xlink:href=\"#DejaVuSans-30\"/>\r\n       <use x=\"190.869141\" xlink:href=\"#DejaVuSans-30\"/>\r\n       <use x=\"254.492188\" xlink:href=\"#DejaVuSans-30\"/>\r\n       <use x=\"318.115234\" xlink:href=\"#DejaVuSans-30\"/>\r\n      </g>\r\n     </g>\r\n    </g>\r\n    <g id=\"ytick_5\">\r\n     <g id=\"line2d_11\">\r\n      <g>\r\n       <use style=\"stroke:#000000;stroke-width:0.8;\" x=\"52.375\" xlink:href=\"#m69ba0928f7\" y=\"119.252571\"/>\r\n      </g>\r\n     </g>\r\n     <g id=\"text_12\">\r\n      <!-- 200000 -->\r\n      <g transform=\"translate(7.2 123.05179)scale(0.1 -0.1)\">\r\n       <use xlink:href=\"#DejaVuSans-32\"/>\r\n       <use x=\"63.623047\" xlink:href=\"#DejaVuSans-30\"/>\r\n       <use x=\"127.246094\" xlink:href=\"#DejaVuSans-30\"/>\r\n       <use x=\"190.869141\" xlink:href=\"#DejaVuSans-30\"/>\r\n       <use x=\"254.492188\" xlink:href=\"#DejaVuSans-30\"/>\r\n       <use x=\"318.115234\" xlink:href=\"#DejaVuSans-30\"/>\r\n      </g>\r\n     </g>\r\n    </g>\r\n    <g id=\"ytick_6\">\r\n     <g id=\"line2d_12\">\r\n      <g>\r\n       <use style=\"stroke:#000000;stroke-width:0.8;\" x=\"52.375\" xlink:href=\"#m69ba0928f7\" y=\"91.596816\"/>\r\n      </g>\r\n     </g>\r\n     <g id=\"text_13\">\r\n      <!-- 250000 -->\r\n      <g transform=\"translate(7.2 95.396035)scale(0.1 -0.1)\">\r\n       <use xlink:href=\"#DejaVuSans-32\"/>\r\n       <use x=\"63.623047\" xlink:href=\"#DejaVuSans-35\"/>\r\n       <use x=\"127.246094\" xlink:href=\"#DejaVuSans-30\"/>\r\n       <use x=\"190.869141\" xlink:href=\"#DejaVuSans-30\"/>\r\n       <use x=\"254.492188\" xlink:href=\"#DejaVuSans-30\"/>\r\n       <use x=\"318.115234\" xlink:href=\"#DejaVuSans-30\"/>\r\n      </g>\r\n     </g>\r\n    </g>\r\n    <g id=\"ytick_7\">\r\n     <g id=\"line2d_13\">\r\n      <g>\r\n       <use style=\"stroke:#000000;stroke-width:0.8;\" x=\"52.375\" xlink:href=\"#m69ba0928f7\" y=\"63.941061\"/>\r\n      </g>\r\n     </g>\r\n     <g id=\"text_14\">\r\n      <!-- 300000 -->\r\n      <g transform=\"translate(7.2 67.74028)scale(0.1 -0.1)\">\r\n       <defs>\r\n        <path d=\"M 2597 2516 \r\nQ 3050 2419 3304 2112 \r\nQ 3559 1806 3559 1356 \r\nQ 3559 666 3084 287 \r\nQ 2609 -91 1734 -91 \r\nQ 1441 -91 1130 -33 \r\nQ 819 25 488 141 \r\nL 488 750 \r\nQ 750 597 1062 519 \r\nQ 1375 441 1716 441 \r\nQ 2309 441 2620 675 \r\nQ 2931 909 2931 1356 \r\nQ 2931 1769 2642 2001 \r\nQ 2353 2234 1838 2234 \r\nL 1294 2234 \r\nL 1294 2753 \r\nL 1863 2753 \r\nQ 2328 2753 2575 2939 \r\nQ 2822 3125 2822 3475 \r\nQ 2822 3834 2567 4026 \r\nQ 2313 4219 1838 4219 \r\nQ 1578 4219 1281 4162 \r\nQ 984 4106 628 3988 \r\nL 628 4550 \r\nQ 988 4650 1302 4700 \r\nQ 1616 4750 1894 4750 \r\nQ 2613 4750 3031 4423 \r\nQ 3450 4097 3450 3541 \r\nQ 3450 3153 3228 2886 \r\nQ 3006 2619 2597 2516 \r\nz\r\n\" id=\"DejaVuSans-33\" transform=\"scale(0.015625)\"/>\r\n       </defs>\r\n       <use xlink:href=\"#DejaVuSans-33\"/>\r\n       <use x=\"63.623047\" xlink:href=\"#DejaVuSans-30\"/>\r\n       <use x=\"127.246094\" xlink:href=\"#DejaVuSans-30\"/>\r\n       <use x=\"190.869141\" xlink:href=\"#DejaVuSans-30\"/>\r\n       <use x=\"254.492188\" xlink:href=\"#DejaVuSans-30\"/>\r\n       <use x=\"318.115234\" xlink:href=\"#DejaVuSans-30\"/>\r\n      </g>\r\n     </g>\r\n    </g>\r\n    <g id=\"ytick_8\">\r\n     <g id=\"line2d_14\">\r\n      <g>\r\n       <use style=\"stroke:#000000;stroke-width:0.8;\" x=\"52.375\" xlink:href=\"#m69ba0928f7\" y=\"36.285306\"/>\r\n      </g>\r\n     </g>\r\n     <g id=\"text_15\">\r\n      <!-- 350000 -->\r\n      <g transform=\"translate(7.2 40.084525)scale(0.1 -0.1)\">\r\n       <use xlink:href=\"#DejaVuSans-33\"/>\r\n       <use x=\"63.623047\" xlink:href=\"#DejaVuSans-35\"/>\r\n       <use x=\"127.246094\" xlink:href=\"#DejaVuSans-30\"/>\r\n       <use x=\"190.869141\" xlink:href=\"#DejaVuSans-30\"/>\r\n       <use x=\"254.492188\" xlink:href=\"#DejaVuSans-30\"/>\r\n       <use x=\"318.115234\" xlink:href=\"#DejaVuSans-30\"/>\r\n      </g>\r\n     </g>\r\n    </g>\r\n   </g>\r\n   <g id=\"line2d_15\">\r\n    <path clip-path=\"url(#p73a4f0b76e)\" d=\"M 67.593182 32.201761 \r\nL 70.667562 104.018831 \r\nL 73.741942 153.870533 \r\nL 76.816322 182.253591 \r\nL 79.890702 201.789283 \r\nL 82.965083 201.09523 \r\nL 86.039463 203.386001 \r\nL 89.113843 207.753822 \r\nL 92.188223 209.436229 \r\nL 95.262603 214.367691 \r\nL 98.336983 216.789972 \r\nL 101.411364 218.311951 \r\nL 104.485744 220.334566 \r\nL 107.560124 222.886824 \r\nL 110.634504 221.824512 \r\nL 113.708884 222.970146 \r\nL 116.783264 225.588574 \r\nL 119.857645 226.156046 \r\nL 122.932025 226.129234 \r\nL 126.006405 226.395323 \r\nL 129.080785 226.883679 \r\nL 132.155165 227.054799 \r\nL 135.229545 225.897588 \r\nL 138.303926 227.745306 \r\nL 141.378306 228.102868 \r\nL 144.452686 228.607937 \r\nL 147.527066 228.889216 \r\nL 150.601446 229.307345 \r\nL 153.675826 229.668125 \r\nL 156.750207 229.874218 \r\nL 159.824587 229.87422 \r\nL 162.898967 229.874222 \r\nL 165.973347 229.874225 \r\nL 169.047727 229.874228 \r\nL 172.122107 229.874231 \r\nL 175.196488 229.874234 \r\nL 178.270868 229.874237 \r\nL 181.345248 229.87424 \r\nL 184.419628 229.874244 \r\nL 187.494008 229.874248 \r\nL 190.568388 229.874251 \r\nL 193.642769 229.874255 \r\nL 196.717149 229.874259 \r\nL 199.791529 229.874263 \r\nL 202.865909 229.809669 \r\nL 205.940289 229.874271 \r\nL 209.014669 229.874275 \r\nL 212.08905 229.874279 \r\nL 215.16343 229.874283 \r\nL 218.23781 229.874287 \r\nL 221.31219 229.874292 \r\nL 224.38657 229.874296 \r\nL 227.46095 229.8743 \r\nL 230.535331 229.874304 \r\nL 233.609711 229.874308 \r\nL 236.684091 229.874313 \r\nL 239.758471 229.874317 \r\nL 242.832851 229.874321 \r\nL 245.907231 229.874325 \r\nL 248.981612 229.87433 \r\nL 252.055992 229.874334 \r\nL 255.130372 229.874338 \r\nL 258.204752 229.874342 \r\nL 261.279132 229.874347 \r\nL 264.353512 229.874351 \r\nL 267.427893 229.874355 \r\nL 270.502273 229.874359 \r\nL 273.576653 229.874363 \r\nL 276.651033 229.874367 \r\nL 279.725413 229.874372 \r\nL 282.799793 229.874376 \r\nL 285.874174 229.87438 \r\nL 288.948554 229.874384 \r\nL 292.022934 229.874388 \r\nL 295.097314 229.874392 \r\nL 298.171694 229.874396 \r\nL 301.246074 229.8744 \r\nL 304.320455 229.874404 \r\nL 307.394835 229.874408 \r\nL 310.469215 229.874412 \r\nL 313.543595 229.874416 \r\nL 316.617975 229.87442 \r\nL 319.692355 229.874424 \r\nL 322.766736 229.874428 \r\nL 325.841116 229.874432 \r\nL 328.915496 229.874436 \r\nL 331.989876 229.87444 \r\nL 335.064256 229.874444 \r\nL 338.138636 229.874448 \r\nL 341.213017 229.874451 \r\nL 344.287397 229.874455 \r\nL 347.361777 229.874459 \r\nL 350.436157 229.874463 \r\nL 353.510537 229.874467 \r\nL 356.584917 229.87447 \r\nL 359.659298 229.874474 \r\nL 362.733678 229.874478 \r\nL 365.808058 229.874481 \r\nL 368.882438 229.874485 \r\nL 371.956818 229.874489 \r\n\" style=\"fill:none;stroke:#1f77b4;stroke-linecap:square;stroke-width:1.5;\"/>\r\n   </g>\r\n   <g id=\"patch_3\">\r\n    <path d=\"M 52.375 239.758125 \r\nL 52.375 22.318125 \r\n\" style=\"fill:none;stroke:#000000;stroke-linecap:square;stroke-linejoin:miter;stroke-width:0.8;\"/>\r\n   </g>\r\n   <g id=\"patch_4\">\r\n    <path d=\"M 387.175 239.758125 \r\nL 387.175 22.318125 \r\n\" style=\"fill:none;stroke:#000000;stroke-linecap:square;stroke-linejoin:miter;stroke-width:0.8;\"/>\r\n   </g>\r\n   <g id=\"patch_5\">\r\n    <path d=\"M 52.375 239.758125 \r\nL 387.175 239.758125 \r\n\" style=\"fill:none;stroke:#000000;stroke-linecap:square;stroke-linejoin:miter;stroke-width:0.8;\"/>\r\n   </g>\r\n   <g id=\"patch_6\">\r\n    <path d=\"M 52.375 22.318125 \r\nL 387.175 22.318125 \r\n\" style=\"fill:none;stroke:#000000;stroke-linecap:square;stroke-linejoin:miter;stroke-width:0.8;\"/>\r\n   </g>\r\n   <g id=\"text_16\">\r\n    <!-- Loss VS Epoch -->\r\n    <g transform=\"translate(176.514063 16.318125)scale(0.12 -0.12)\">\r\n     <defs>\r\n      <path d=\"M 628 4666 \r\nL 1259 4666 \r\nL 1259 531 \r\nL 3531 531 \r\nL 3531 0 \r\nL 628 0 \r\nL 628 4666 \r\nz\r\n\" id=\"DejaVuSans-4c\" transform=\"scale(0.015625)\"/>\r\n      <path d=\"M 2834 3397 \r\nL 2834 2853 \r\nQ 2591 2978 2328 3040 \r\nQ 2066 3103 1784 3103 \r\nQ 1356 3103 1142 2972 \r\nQ 928 2841 928 2578 \r\nQ 928 2378 1081 2264 \r\nQ 1234 2150 1697 2047 \r\nL 1894 2003 \r\nQ 2506 1872 2764 1633 \r\nQ 3022 1394 3022 966 \r\nQ 3022 478 2636 193 \r\nQ 2250 -91 1575 -91 \r\nQ 1294 -91 989 -36 \r\nQ 684 19 347 128 \r\nL 347 722 \r\nQ 666 556 975 473 \r\nQ 1284 391 1588 391 \r\nQ 1994 391 2212 530 \r\nQ 2431 669 2431 922 \r\nQ 2431 1156 2273 1281 \r\nQ 2116 1406 1581 1522 \r\nL 1381 1569 \r\nQ 847 1681 609 1914 \r\nQ 372 2147 372 2553 \r\nQ 372 3047 722 3315 \r\nQ 1072 3584 1716 3584 \r\nQ 2034 3584 2315 3537 \r\nQ 2597 3491 2834 3397 \r\nz\r\n\" id=\"DejaVuSans-73\" transform=\"scale(0.015625)\"/>\r\n      <path id=\"DejaVuSans-20\" transform=\"scale(0.015625)\"/>\r\n      <path d=\"M 1831 0 \r\nL 50 4666 \r\nL 709 4666 \r\nL 2188 738 \r\nL 3669 4666 \r\nL 4325 4666 \r\nL 2547 0 \r\nL 1831 0 \r\nz\r\n\" id=\"DejaVuSans-56\" transform=\"scale(0.015625)\"/>\r\n      <path d=\"M 3425 4513 \r\nL 3425 3897 \r\nQ 3066 4069 2747 4153 \r\nQ 2428 4238 2131 4238 \r\nQ 1616 4238 1336 4038 \r\nQ 1056 3838 1056 3469 \r\nQ 1056 3159 1242 3001 \r\nQ 1428 2844 1947 2747 \r\nL 2328 2669 \r\nQ 3034 2534 3370 2195 \r\nQ 3706 1856 3706 1288 \r\nQ 3706 609 3251 259 \r\nQ 2797 -91 1919 -91 \r\nQ 1588 -91 1214 -16 \r\nQ 841 59 441 206 \r\nL 441 856 \r\nQ 825 641 1194 531 \r\nQ 1563 422 1919 422 \r\nQ 2459 422 2753 634 \r\nQ 3047 847 3047 1241 \r\nQ 3047 1584 2836 1778 \r\nQ 2625 1972 2144 2069 \r\nL 1759 2144 \r\nQ 1053 2284 737 2584 \r\nQ 422 2884 422 3419 \r\nQ 422 4038 858 4394 \r\nQ 1294 4750 2059 4750 \r\nQ 2388 4750 2728 4690 \r\nQ 3069 4631 3425 4513 \r\nz\r\n\" id=\"DejaVuSans-53\" transform=\"scale(0.015625)\"/>\r\n     </defs>\r\n     <use xlink:href=\"#DejaVuSans-4c\"/>\r\n     <use x=\"53.962891\" xlink:href=\"#DejaVuSans-6f\"/>\r\n     <use x=\"115.144531\" xlink:href=\"#DejaVuSans-73\"/>\r\n     <use x=\"167.244141\" xlink:href=\"#DejaVuSans-73\"/>\r\n     <use x=\"219.34375\" xlink:href=\"#DejaVuSans-20\"/>\r\n     <use x=\"251.130859\" xlink:href=\"#DejaVuSans-56\"/>\r\n     <use x=\"319.539062\" xlink:href=\"#DejaVuSans-53\"/>\r\n     <use x=\"383.015625\" xlink:href=\"#DejaVuSans-20\"/>\r\n     <use x=\"414.802734\" xlink:href=\"#DejaVuSans-45\"/>\r\n     <use x=\"477.986328\" xlink:href=\"#DejaVuSans-70\"/>\r\n     <use x=\"541.462891\" xlink:href=\"#DejaVuSans-6f\"/>\r\n     <use x=\"602.644531\" xlink:href=\"#DejaVuSans-63\"/>\r\n     <use x=\"657.625\" xlink:href=\"#DejaVuSans-68\"/>\r\n    </g>\r\n   </g>\r\n  </g>\r\n </g>\r\n <defs>\r\n  <clipPath id=\"p73a4f0b76e\">\r\n   <rect height=\"217.44\" width=\"334.8\" x=\"52.375\" y=\"22.318125\"/>\r\n  </clipPath>\r\n </defs>\r\n</svg>\r\n",
      "image/png": "[encoded data removed]"
     },
     "metadata": {
      "needs_background": "light"
     }
    }
   ],
   "source": [
    "plt.title('Loss VS Epoch')\n",
    "plt.xlabel(\"Loss\")\n",
    "plt.xlabel(\"Epoch\")\n",
    "plt.plot(range(epochs), loss_arr)"
   ]
  },
  {
   "cell_type": "code",
   "execution_count": 45,
   "metadata": {},
   "outputs": [
    {
     "output_type": "error",
     "ename": "ValueError",
     "evalue": "operands could not be broadcast together with shapes (234103,12) (234103,) ",
     "traceback": [
      "\u001b[1;31m---------------------------------------------------------------------------\u001b[0m",
      "\u001b[1;31mValueError\u001b[0m                                Traceback (most recent call last)",
      "\u001b[1;32m<ipython-input-45-e3bb4dfc13ed>\u001b[0m in \u001b[0;36m<module>\u001b[1;34m\u001b[0m\n\u001b[0;32m      4\u001b[0m \u001b[1;31m#y_train\u001b[0m\u001b[1;33m\u001b[0m\u001b[1;33m\u001b[0m\u001b[1;33m\u001b[0m\u001b[0m\n\u001b[0;32m      5\u001b[0m \u001b[1;33m\u001b[0m\u001b[0m\n\u001b[1;32m----> 6\u001b[1;33m \u001b[0mprint\u001b[0m\u001b[1;33m(\u001b[0m\u001b[1;34m\"test accuracy: {} %\"\u001b[0m\u001b[1;33m.\u001b[0m\u001b[0mformat\u001b[0m\u001b[1;33m(\u001b[0m\u001b[1;36m100\u001b[0m \u001b[1;33m-\u001b[0m \u001b[0mnp\u001b[0m\u001b[1;33m.\u001b[0m\u001b[0mmean\u001b[0m\u001b[1;33m(\u001b[0m\u001b[0mnp\u001b[0m\u001b[1;33m.\u001b[0m\u001b[0mabs\u001b[0m\u001b[1;33m(\u001b[0m\u001b[0mpredictions\u001b[0m \u001b[1;33m-\u001b[0m \u001b[0my_test\u001b[0m\u001b[1;33m.\u001b[0m\u001b[0mdetach\u001b[0m\u001b[1;33m(\u001b[0m\u001b[1;33m)\u001b[0m\u001b[1;33m.\u001b[0m\u001b[0mnumpy\u001b[0m\u001b[1;33m(\u001b[0m\u001b[1;33m)\u001b[0m\u001b[1;33m)\u001b[0m\u001b[1;33m)\u001b[0m \u001b[1;33m*\u001b[0m \u001b[1;36m100\u001b[0m\u001b[1;33m)\u001b[0m\u001b[1;33m)\u001b[0m\u001b[1;33m\u001b[0m\u001b[1;33m\u001b[0m\u001b[0m\n\u001b[0m\u001b[0;32m      7\u001b[0m \u001b[1;31m#print(\"test accuracy: {} %\".format(100 - np.mean(np.abs(Y_prediction_test - Y_test)) * 100))\u001b[0m\u001b[1;33m\u001b[0m\u001b[1;33m\u001b[0m\u001b[1;33m\u001b[0m\u001b[0m\n\u001b[0;32m      8\u001b[0m \u001b[1;33m\u001b[0m\u001b[0m\n",
      "\u001b[1;31mValueError\u001b[0m: operands could not be broadcast together with shapes (234103,12) (234103,) "
     ]
    }
   ],
   "source": [
    "# Print accuracy\n",
    "predictions = model(X_test).detach().numpy()\n",
    "#predictions\n",
    "#y_train\n",
    "\n",
    "print(\"test accuracy: {} %\".format(100 - np.mean(np.abs(predictions - y_test.detach().numpy())) * 100))\n",
    "#print(\"test accuracy: {} %\".format(100 - np.mean(np.abs(Y_prediction_test - Y_test)) * 100))\n",
    "\n",
    "#print(\"Accuracy: \"  + str(np.mean((p[0,:] == y[0,:]))))\n",
    "\n",
    "#print ('Accuracy: %d' % float((np.dot(y_test,predictions.T) + np.dot(1-y_test,1-predictions.T))/float(y_test.size)*100) + '%')"
   ]
  },
  {
   "cell_type": "code",
   "execution_count": 3,
   "metadata": {},
   "outputs": [
    {
     "output_type": "execute_result",
     "data": {
      "text/plain": [
       "         DEPTH_MD        X_LOC      Y_LOC        Z_LOC        CALI   RSHA  \\\n",
       "0       1518.2800  433906.7500  6460000.5 -1493.241821   15.506232 -999.0   \n",
       "1       1518.4320  433906.7500  6460000.5 -1493.393799   18.524611 -999.0   \n",
       "2       1518.5840  433906.7500  6460000.5 -1493.545776   18.855669 -999.0   \n",
       "3       1518.7360  433906.7500  6460000.5 -1493.697754   19.163353 -999.0   \n",
       "4       1518.8880  433906.7500  6460000.5 -1493.849609   18.489744 -999.0   \n",
       "...           ...          ...        ...          ...         ...    ...   \n",
       "122392  2973.2988  536096.0625  6793022.0 -2943.444580    8.276272 -999.0   \n",
       "122393  2973.4508  536096.0625  6793022.0 -2943.595947    8.267273 -999.0   \n",
       "122394  2973.6028  536096.0625  6793022.0 -2943.747559    8.250099 -999.0   \n",
       "122395  2973.7548  536096.0625  6793022.0 -2943.899170 -999.000000 -999.0   \n",
       "122396  2973.9068  536096.0625  6793022.0 -2944.050537 -999.000000 -999.0   \n",
       "\n",
       "              RMED      RDEP   RHOB          GR  ...  Carbon_Index  \\\n",
       "0      -999.000000  0.878615 -999.0  103.451515  ...        -999.0   \n",
       "1      -999.000000  0.874237 -999.0   94.124893  ...        -999.0   \n",
       "2      -999.000000  0.869858 -999.0   93.586487  ...        -999.0   \n",
       "3      -999.000000  0.865479 -999.0   91.113373  ...        -999.0   \n",
       "4         0.849849  0.863804 -999.0  100.228333  ...        -999.0   \n",
       "...            ...       ...    ...         ...  ...           ...   \n",
       "122392    2.820439  3.158570 -999.0   90.720284  ...        -999.0   \n",
       "122393    3.020778  3.332977 -999.0   87.062027  ...        -999.0   \n",
       "122394    2.795711  3.044179 -999.0   86.115921  ...        -999.0   \n",
       "122395    2.658694  2.847681 -999.0   89.497131  ...        -999.0   \n",
       "122396    2.802693  2.972499 -999.0  100.418251  ...        -999.0   \n",
       "\n",
       "        Normalized_RHOB  Normalized_GR  Delta_DTC  Delta_RHOB   Delta_GR  \\\n",
       "0                -999.0       0.229715  -0.000000      -999.0  -0.000000   \n",
       "1                -999.0       0.206369   1.616959      -999.0   9.326622   \n",
       "2                -999.0       0.205021   0.131363      -999.0   0.538406   \n",
       "3                -999.0       0.198831   1.637512      -999.0   2.473114   \n",
       "4                -999.0       0.221647   0.819153      -999.0  -9.114960   \n",
       "...                 ...            ...        ...         ...        ...   \n",
       "122392           -999.0       0.455601   0.591225      -999.0   1.536675   \n",
       "122393           -999.0       0.436064   0.392357      -999.0   3.658257   \n",
       "122394           -999.0       0.431012   0.020180      -999.0   0.946106   \n",
       "122395           -999.0       0.449069  -0.115906      -999.0  -3.381210   \n",
       "122396           -999.0       0.507392  -0.147377      -999.0 -10.921120   \n",
       "\n",
       "        Delta_DEPTH_MD  Delta_Carbon_Index  GROUP_encoded  FORMATION_encoded  \n",
       "0                0.000              -999.0              5                 51  \n",
       "1                0.152              -999.0              5                 51  \n",
       "2                0.152              -999.0              5                 51  \n",
       "3                0.152              -999.0              5                 51  \n",
       "4                0.152              -999.0              5                 51  \n",
       "...                ...                 ...            ...                ...  \n",
       "122392           0.152              -999.0              0                 16  \n",
       "122393           0.152              -999.0              0                 16  \n",
       "122394           0.152              -999.0              0                 16  \n",
       "122395           0.152              -999.0              0                 16  \n",
       "122396           0.152              -999.0              0                 16  \n",
       "\n",
       "[122397 rows x 30 columns]"
      ],
      "text/html": "<div>\n<style scoped>\n    .dataframe tbody tr th:only-of-type {\n        vertical-align: middle;\n    }\n\n    .dataframe tbody tr th {\n        vertical-align: top;\n    }\n\n    .dataframe thead th {\n        text-align: right;\n    }\n</style>\n<table border=\"1\" class=\"dataframe\">\n  <thead>\n    <tr style=\"text-align: right;\">\n      <th></th>\n      <th>DEPTH_MD</th>\n      <th>X_LOC</th>\n      <th>Y_LOC</th>\n      <th>Z_LOC</th>\n      <th>CALI</th>\n      <th>RSHA</th>\n      <th>RMED</th>\n      <th>RDEP</th>\n      <th>RHOB</th>\n      <th>GR</th>\n      <th>...</th>\n      <th>Carbon_Index</th>\n      <th>Normalized_RHOB</th>\n      <th>Normalized_GR</th>\n      <th>Delta_DTC</th>\n      <th>Delta_RHOB</th>\n      <th>Delta_GR</th>\n      <th>Delta_DEPTH_MD</th>\n      <th>Delta_Carbon_Index</th>\n      <th>GROUP_encoded</th>\n      <th>FORMATION_encoded</th>\n    </tr>\n  </thead>\n  <tbody>\n    <tr>\n      <th>0</th>\n      <td>1518.2800</td>\n      <td>433906.7500</td>\n      <td>6460000.5</td>\n      <td>-1493.241821</td>\n      <td>15.506232</td>\n      <td>-999.0</td>\n      <td>-999.000000</td>\n      <td>0.878615</td>\n      <td>-999.0</td>\n      <td>103.451515</td>\n      <td>...</td>\n      <td>-999.0</td>\n      <td>-999.0</td>\n      <td>0.229715</td>\n      <td>-0.000000</td>\n      <td>-999.0</td>\n      <td>-0.000000</td>\n      <td>0.000</td>\n      <td>-999.0</td>\n      <td>5</td>\n      <td>51</td>\n    </tr>\n    <tr>\n      <th>1</th>\n      <td>1518.4320</td>\n      <td>433906.7500</td>\n      <td>6460000.5</td>\n      <td>-1493.393799</td>\n      <td>18.524611</td>\n      <td>-999.0</td>\n      <td>-999.000000</td>\n      <td>0.874237</td>\n      <td>-999.0</td>\n      <td>94.124893</td>\n      <td>...</td>\n      <td>-999.0</td>\n      <td>-999.0</td>\n      <td>0.206369</td>\n      <td>1.616959</td>\n      <td>-999.0</td>\n      <td>9.326622</td>\n      <td>0.152</td>\n      <td>-999.0</td>\n      <td>5</td>\n      <td>51</td>\n    </tr>\n    <tr>\n      <th>2</th>\n      <td>1518.5840</td>\n      <td>433906.7500</td>\n      <td>6460000.5</td>\n      <td>-1493.545776</td>\n      <td>18.855669</td>\n      <td>-999.0</td>\n      <td>-999.000000</td>\n      <td>0.869858</td>\n      <td>-999.0</td>\n      <td>93.586487</td>\n      <td>...</td>\n      <td>-999.0</td>\n      <td>-999.0</td>\n      <td>0.205021</td>\n      <td>0.131363</td>\n      <td>-999.0</td>\n      <td>0.538406</td>\n      <td>0.152</td>\n      <td>-999.0</td>\n      <td>5</td>\n      <td>51</td>\n    </tr>\n    <tr>\n      <th>3</th>\n      <td>1518.7360</td>\n      <td>433906.7500</td>\n      <td>6460000.5</td>\n      <td>-1493.697754</td>\n      <td>19.163353</td>\n      <td>-999.0</td>\n      <td>-999.000000</td>\n      <td>0.865479</td>\n      <td>-999.0</td>\n      <td>91.113373</td>\n      <td>...</td>\n      <td>-999.0</td>\n      <td>-999.0</td>\n      <td>0.198831</td>\n      <td>1.637512</td>\n      <td>-999.0</td>\n      <td>2.473114</td>\n      <td>0.152</td>\n      <td>-999.0</td>\n      <td>5</td>\n      <td>51</td>\n    </tr>\n    <tr>\n      <th>4</th>\n      <td>1518.8880</td>\n      <td>433906.7500</td>\n      <td>6460000.5</td>\n      <td>-1493.849609</td>\n      <td>18.489744</td>\n      <td>-999.0</td>\n      <td>0.849849</td>\n      <td>0.863804</td>\n      <td>-999.0</td>\n      <td>100.228333</td>\n      <td>...</td>\n      <td>-999.0</td>\n      <td>-999.0</td>\n      <td>0.221647</td>\n      <td>0.819153</td>\n      <td>-999.0</td>\n      <td>-9.114960</td>\n      <td>0.152</td>\n      <td>-999.0</td>\n      <td>5</td>\n      <td>51</td>\n    </tr>\n    <tr>\n      <th>...</th>\n      <td>...</td>\n      <td>...</td>\n      <td>...</td>\n      <td>...</td>\n      <td>...</td>\n      <td>...</td>\n      <td>...</td>\n      <td>...</td>\n      <td>...</td>\n      <td>...</td>\n      <td>...</td>\n      <td>...</td>\n      <td>...</td>\n      <td>...</td>\n      <td>...</td>\n      <td>...</td>\n      <td>...</td>\n      <td>...</td>\n      <td>...</td>\n      <td>...</td>\n      <td>...</td>\n    </tr>\n    <tr>\n      <th>122392</th>\n      <td>2973.2988</td>\n      <td>536096.0625</td>\n      <td>6793022.0</td>\n      <td>-2943.444580</td>\n      <td>8.276272</td>\n      <td>-999.0</td>\n      <td>2.820439</td>\n      <td>3.158570</td>\n      <td>-999.0</td>\n      <td>90.720284</td>\n      <td>...</td>\n      <td>-999.0</td>\n      <td>-999.0</td>\n      <td>0.455601</td>\n      <td>0.591225</td>\n      <td>-999.0</td>\n      <td>1.536675</td>\n      <td>0.152</td>\n      <td>-999.0</td>\n      <td>0</td>\n      <td>16</td>\n    </tr>\n    <tr>\n      <th>122393</th>\n      <td>2973.4508</td>\n      <td>536096.0625</td>\n      <td>6793022.0</td>\n      <td>-2943.595947</td>\n      <td>8.267273</td>\n      <td>-999.0</td>\n      <td>3.020778</td>\n      <td>3.332977</td>\n      <td>-999.0</td>\n      <td>87.062027</td>\n      <td>...</td>\n      <td>-999.0</td>\n      <td>-999.0</td>\n      <td>0.436064</td>\n      <td>0.392357</td>\n      <td>-999.0</td>\n      <td>3.658257</td>\n      <td>0.152</td>\n      <td>-999.0</td>\n      <td>0</td>\n      <td>16</td>\n    </tr>\n    <tr>\n      <th>122394</th>\n      <td>2973.6028</td>\n      <td>536096.0625</td>\n      <td>6793022.0</td>\n      <td>-2943.747559</td>\n      <td>8.250099</td>\n      <td>-999.0</td>\n      <td>2.795711</td>\n      <td>3.044179</td>\n      <td>-999.0</td>\n      <td>86.115921</td>\n      <td>...</td>\n      <td>-999.0</td>\n      <td>-999.0</td>\n      <td>0.431012</td>\n      <td>0.020180</td>\n      <td>-999.0</td>\n      <td>0.946106</td>\n      <td>0.152</td>\n      <td>-999.0</td>\n      <td>0</td>\n      <td>16</td>\n    </tr>\n    <tr>\n      <th>122395</th>\n      <td>2973.7548</td>\n      <td>536096.0625</td>\n      <td>6793022.0</td>\n      <td>-2943.899170</td>\n      <td>-999.000000</td>\n      <td>-999.0</td>\n      <td>2.658694</td>\n      <td>2.847681</td>\n      <td>-999.0</td>\n      <td>89.497131</td>\n      <td>...</td>\n      <td>-999.0</td>\n      <td>-999.0</td>\n      <td>0.449069</td>\n      <td>-0.115906</td>\n      <td>-999.0</td>\n      <td>-3.381210</td>\n      <td>0.152</td>\n      <td>-999.0</td>\n      <td>0</td>\n      <td>16</td>\n    </tr>\n    <tr>\n      <th>122396</th>\n      <td>2973.9068</td>\n      <td>536096.0625</td>\n      <td>6793022.0</td>\n      <td>-2944.050537</td>\n      <td>-999.000000</td>\n      <td>-999.0</td>\n      <td>2.802693</td>\n      <td>2.972499</td>\n      <td>-999.0</td>\n      <td>100.418251</td>\n      <td>...</td>\n      <td>-999.0</td>\n      <td>-999.0</td>\n      <td>0.507392</td>\n      <td>-0.147377</td>\n      <td>-999.0</td>\n      <td>-10.921120</td>\n      <td>0.152</td>\n      <td>-999.0</td>\n      <td>0</td>\n      <td>16</td>\n    </tr>\n  </tbody>\n</table>\n<p>122397 rows × 30 columns</p>\n</div>"
     },
     "metadata": {},
     "execution_count": 3
    }
   ],
   "source": [
    "# After\n",
    "df_hidden = pd.read_csv('datasets/hidden.csv', sep=';')\n",
    "df_hidden\n"
   ]
  }
 ]
}